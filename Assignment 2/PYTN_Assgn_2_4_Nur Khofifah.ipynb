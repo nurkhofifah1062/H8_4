{
 "cells": [
  {
   "cell_type": "markdown",
   "id": "88745683",
   "metadata": {},
   "source": [
    "# Assignment Python 2\n",
    "### Nur Khofifah - PYTN-KS12-008"
   ]
  },
  {
   "cell_type": "markdown",
   "id": "d0325e69",
   "metadata": {},
   "source": [
    "## Project Overview\n",
    "Using what you’ve learned; download the NYC Property Sales Dataset from Kaggle. This dataset is a record of every building or building unit (apartment, etc.) sold in the New York City property market over a 12-month period.\n",
    "\n",
    "This dataset contains the location, address, type, sale price, and sale date of building units sold. A reference on the trickier fields:\n",
    "\n",
    "BOROUGH: A digit code for the borough the property is located in; in order these are Manhattan (1), Bronx (2), Brooklyn (3), Queens (4), and Staten Island (5).\n",
    "BLOCK; LOT: The combination of borough, block, and lot forms a unique key for property in New York City. Commonly called a BBL.\n",
    "BUILDING CLASS AT PRESENT and BUILDING CLASS AT TIME OF SALE: The type of building at various points in time.\n",
    "Note that because this is a financial transaction dataset, there are some points that need to be kept in mind:\n",
    "\n",
    "Many sales occur with a nonsensically small dollar amount: $0 most commonly. These sales are actually transfers of deeds between parties: for example, parents transferring ownership to their home to a child after moving out for retirement.\n",
    "This dataset uses the financial definition of a building/building unit, for tax purposes. In case a single entity owns the building in question, a sale covers the value of the entire building. In case a building is owned piecemeal by its residents (a condominium), a sale refers to a single apartment (or group of apartments) owned by some individual."
   ]
  },
  {
   "cell_type": "markdown",
   "id": "b0c8a61a",
   "metadata": {},
   "source": [
    "## Import Libraries"
   ]
  },
  {
   "cell_type": "code",
   "execution_count": 1,
   "id": "11077cdb",
   "metadata": {},
   "outputs": [],
   "source": [
    "import math\n",
    "import statistics\n",
    "import numpy as np\n",
    "import scipy.stats\n",
    "import pandas as pd\n",
    "%matplotlib inline\n",
    "import matplotlib.pyplot as plt\n",
    "from IPython.display import Math, Latex\n",
    "from IPython.core.display import Image\n",
    "import seaborn as sns"
   ]
  },
  {
   "cell_type": "markdown",
   "id": "8afc4dd0",
   "metadata": {},
   "source": [
    "## Loading Dataset"
   ]
  },
  {
   "cell_type": "code",
   "execution_count": 2,
   "id": "7e9d6076",
   "metadata": {},
   "outputs": [],
   "source": [
    "df = pd.read_csv('D:/Hacktiv8/nyc-rolling-sales.csv')"
   ]
  },
  {
   "cell_type": "code",
   "execution_count": 3,
   "id": "60ab3a10",
   "metadata": {},
   "outputs": [
    {
     "data": {
      "text/html": [
       "<div>\n",
       "<style scoped>\n",
       "    .dataframe tbody tr th:only-of-type {\n",
       "        vertical-align: middle;\n",
       "    }\n",
       "\n",
       "    .dataframe tbody tr th {\n",
       "        vertical-align: top;\n",
       "    }\n",
       "\n",
       "    .dataframe thead th {\n",
       "        text-align: right;\n",
       "    }\n",
       "</style>\n",
       "<table border=\"1\" class=\"dataframe\">\n",
       "  <thead>\n",
       "    <tr style=\"text-align: right;\">\n",
       "      <th></th>\n",
       "      <th>Unnamed: 0</th>\n",
       "      <th>BOROUGH</th>\n",
       "      <th>NEIGHBORHOOD</th>\n",
       "      <th>BUILDING CLASS CATEGORY</th>\n",
       "      <th>TAX CLASS AT PRESENT</th>\n",
       "      <th>BLOCK</th>\n",
       "      <th>LOT</th>\n",
       "      <th>EASE-MENT</th>\n",
       "      <th>BUILDING CLASS AT PRESENT</th>\n",
       "      <th>ADDRESS</th>\n",
       "      <th>...</th>\n",
       "      <th>RESIDENTIAL UNITS</th>\n",
       "      <th>COMMERCIAL UNITS</th>\n",
       "      <th>TOTAL UNITS</th>\n",
       "      <th>LAND SQUARE FEET</th>\n",
       "      <th>GROSS SQUARE FEET</th>\n",
       "      <th>YEAR BUILT</th>\n",
       "      <th>TAX CLASS AT TIME OF SALE</th>\n",
       "      <th>BUILDING CLASS AT TIME OF SALE</th>\n",
       "      <th>SALE PRICE</th>\n",
       "      <th>SALE DATE</th>\n",
       "    </tr>\n",
       "  </thead>\n",
       "  <tbody>\n",
       "    <tr>\n",
       "      <th>0</th>\n",
       "      <td>4</td>\n",
       "      <td>1</td>\n",
       "      <td>ALPHABET CITY</td>\n",
       "      <td>07 RENTALS - WALKUP APARTMENTS</td>\n",
       "      <td>2A</td>\n",
       "      <td>392</td>\n",
       "      <td>6</td>\n",
       "      <td></td>\n",
       "      <td>C2</td>\n",
       "      <td>153 AVENUE B</td>\n",
       "      <td>...</td>\n",
       "      <td>5</td>\n",
       "      <td>0</td>\n",
       "      <td>5</td>\n",
       "      <td>1633</td>\n",
       "      <td>6440</td>\n",
       "      <td>1900</td>\n",
       "      <td>2</td>\n",
       "      <td>C2</td>\n",
       "      <td>6625000</td>\n",
       "      <td>2017-07-19 00:00:00</td>\n",
       "    </tr>\n",
       "    <tr>\n",
       "      <th>1</th>\n",
       "      <td>5</td>\n",
       "      <td>1</td>\n",
       "      <td>ALPHABET CITY</td>\n",
       "      <td>07 RENTALS - WALKUP APARTMENTS</td>\n",
       "      <td>2</td>\n",
       "      <td>399</td>\n",
       "      <td>26</td>\n",
       "      <td></td>\n",
       "      <td>C7</td>\n",
       "      <td>234 EAST 4TH   STREET</td>\n",
       "      <td>...</td>\n",
       "      <td>28</td>\n",
       "      <td>3</td>\n",
       "      <td>31</td>\n",
       "      <td>4616</td>\n",
       "      <td>18690</td>\n",
       "      <td>1900</td>\n",
       "      <td>2</td>\n",
       "      <td>C7</td>\n",
       "      <td>-</td>\n",
       "      <td>2016-12-14 00:00:00</td>\n",
       "    </tr>\n",
       "    <tr>\n",
       "      <th>2</th>\n",
       "      <td>6</td>\n",
       "      <td>1</td>\n",
       "      <td>ALPHABET CITY</td>\n",
       "      <td>07 RENTALS - WALKUP APARTMENTS</td>\n",
       "      <td>2</td>\n",
       "      <td>399</td>\n",
       "      <td>39</td>\n",
       "      <td></td>\n",
       "      <td>C7</td>\n",
       "      <td>197 EAST 3RD   STREET</td>\n",
       "      <td>...</td>\n",
       "      <td>16</td>\n",
       "      <td>1</td>\n",
       "      <td>17</td>\n",
       "      <td>2212</td>\n",
       "      <td>7803</td>\n",
       "      <td>1900</td>\n",
       "      <td>2</td>\n",
       "      <td>C7</td>\n",
       "      <td>-</td>\n",
       "      <td>2016-12-09 00:00:00</td>\n",
       "    </tr>\n",
       "    <tr>\n",
       "      <th>3</th>\n",
       "      <td>7</td>\n",
       "      <td>1</td>\n",
       "      <td>ALPHABET CITY</td>\n",
       "      <td>07 RENTALS - WALKUP APARTMENTS</td>\n",
       "      <td>2B</td>\n",
       "      <td>402</td>\n",
       "      <td>21</td>\n",
       "      <td></td>\n",
       "      <td>C4</td>\n",
       "      <td>154 EAST 7TH STREET</td>\n",
       "      <td>...</td>\n",
       "      <td>10</td>\n",
       "      <td>0</td>\n",
       "      <td>10</td>\n",
       "      <td>2272</td>\n",
       "      <td>6794</td>\n",
       "      <td>1913</td>\n",
       "      <td>2</td>\n",
       "      <td>C4</td>\n",
       "      <td>3936272</td>\n",
       "      <td>2016-09-23 00:00:00</td>\n",
       "    </tr>\n",
       "    <tr>\n",
       "      <th>4</th>\n",
       "      <td>8</td>\n",
       "      <td>1</td>\n",
       "      <td>ALPHABET CITY</td>\n",
       "      <td>07 RENTALS - WALKUP APARTMENTS</td>\n",
       "      <td>2A</td>\n",
       "      <td>404</td>\n",
       "      <td>55</td>\n",
       "      <td></td>\n",
       "      <td>C2</td>\n",
       "      <td>301 EAST 10TH   STREET</td>\n",
       "      <td>...</td>\n",
       "      <td>6</td>\n",
       "      <td>0</td>\n",
       "      <td>6</td>\n",
       "      <td>2369</td>\n",
       "      <td>4615</td>\n",
       "      <td>1900</td>\n",
       "      <td>2</td>\n",
       "      <td>C2</td>\n",
       "      <td>8000000</td>\n",
       "      <td>2016-11-17 00:00:00</td>\n",
       "    </tr>\n",
       "    <tr>\n",
       "      <th>5</th>\n",
       "      <td>9</td>\n",
       "      <td>1</td>\n",
       "      <td>ALPHABET CITY</td>\n",
       "      <td>07 RENTALS - WALKUP APARTMENTS</td>\n",
       "      <td>2</td>\n",
       "      <td>405</td>\n",
       "      <td>16</td>\n",
       "      <td></td>\n",
       "      <td>C4</td>\n",
       "      <td>516 EAST 12TH   STREET</td>\n",
       "      <td>...</td>\n",
       "      <td>20</td>\n",
       "      <td>0</td>\n",
       "      <td>20</td>\n",
       "      <td>2581</td>\n",
       "      <td>9730</td>\n",
       "      <td>1900</td>\n",
       "      <td>2</td>\n",
       "      <td>C4</td>\n",
       "      <td>-</td>\n",
       "      <td>2017-07-20 00:00:00</td>\n",
       "    </tr>\n",
       "    <tr>\n",
       "      <th>6</th>\n",
       "      <td>10</td>\n",
       "      <td>1</td>\n",
       "      <td>ALPHABET CITY</td>\n",
       "      <td>07 RENTALS - WALKUP APARTMENTS</td>\n",
       "      <td>2B</td>\n",
       "      <td>406</td>\n",
       "      <td>32</td>\n",
       "      <td></td>\n",
       "      <td>C4</td>\n",
       "      <td>210 AVENUE B</td>\n",
       "      <td>...</td>\n",
       "      <td>8</td>\n",
       "      <td>0</td>\n",
       "      <td>8</td>\n",
       "      <td>1750</td>\n",
       "      <td>4226</td>\n",
       "      <td>1920</td>\n",
       "      <td>2</td>\n",
       "      <td>C4</td>\n",
       "      <td>3192840</td>\n",
       "      <td>2016-09-23 00:00:00</td>\n",
       "    </tr>\n",
       "    <tr>\n",
       "      <th>7</th>\n",
       "      <td>11</td>\n",
       "      <td>1</td>\n",
       "      <td>ALPHABET CITY</td>\n",
       "      <td>07 RENTALS - WALKUP APARTMENTS</td>\n",
       "      <td>2</td>\n",
       "      <td>407</td>\n",
       "      <td>18</td>\n",
       "      <td></td>\n",
       "      <td>C7</td>\n",
       "      <td>520 EAST 14TH   STREET</td>\n",
       "      <td>...</td>\n",
       "      <td>44</td>\n",
       "      <td>2</td>\n",
       "      <td>46</td>\n",
       "      <td>5163</td>\n",
       "      <td>21007</td>\n",
       "      <td>1900</td>\n",
       "      <td>2</td>\n",
       "      <td>C7</td>\n",
       "      <td>-</td>\n",
       "      <td>2017-07-20 00:00:00</td>\n",
       "    </tr>\n",
       "    <tr>\n",
       "      <th>8</th>\n",
       "      <td>12</td>\n",
       "      <td>1</td>\n",
       "      <td>ALPHABET CITY</td>\n",
       "      <td>08 RENTALS - ELEVATOR APARTMENTS</td>\n",
       "      <td>2</td>\n",
       "      <td>379</td>\n",
       "      <td>34</td>\n",
       "      <td></td>\n",
       "      <td>D5</td>\n",
       "      <td>141 AVENUE D</td>\n",
       "      <td>...</td>\n",
       "      <td>15</td>\n",
       "      <td>0</td>\n",
       "      <td>15</td>\n",
       "      <td>1534</td>\n",
       "      <td>9198</td>\n",
       "      <td>1920</td>\n",
       "      <td>2</td>\n",
       "      <td>D5</td>\n",
       "      <td>-</td>\n",
       "      <td>2017-06-20 00:00:00</td>\n",
       "    </tr>\n",
       "    <tr>\n",
       "      <th>9</th>\n",
       "      <td>13</td>\n",
       "      <td>1</td>\n",
       "      <td>ALPHABET CITY</td>\n",
       "      <td>08 RENTALS - ELEVATOR APARTMENTS</td>\n",
       "      <td>2</td>\n",
       "      <td>387</td>\n",
       "      <td>153</td>\n",
       "      <td></td>\n",
       "      <td>D9</td>\n",
       "      <td>629 EAST 5TH STREET</td>\n",
       "      <td>...</td>\n",
       "      <td>24</td>\n",
       "      <td>0</td>\n",
       "      <td>24</td>\n",
       "      <td>4489</td>\n",
       "      <td>18523</td>\n",
       "      <td>1920</td>\n",
       "      <td>2</td>\n",
       "      <td>D9</td>\n",
       "      <td>16232000</td>\n",
       "      <td>2016-11-07 00:00:00</td>\n",
       "    </tr>\n",
       "  </tbody>\n",
       "</table>\n",
       "<p>10 rows × 22 columns</p>\n",
       "</div>"
      ],
      "text/plain": [
       "   Unnamed: 0  BOROUGH   NEIGHBORHOOD  \\\n",
       "0           4        1  ALPHABET CITY   \n",
       "1           5        1  ALPHABET CITY   \n",
       "2           6        1  ALPHABET CITY   \n",
       "3           7        1  ALPHABET CITY   \n",
       "4           8        1  ALPHABET CITY   \n",
       "5           9        1  ALPHABET CITY   \n",
       "6          10        1  ALPHABET CITY   \n",
       "7          11        1  ALPHABET CITY   \n",
       "8          12        1  ALPHABET CITY   \n",
       "9          13        1  ALPHABET CITY   \n",
       "\n",
       "                       BUILDING CLASS CATEGORY TAX CLASS AT PRESENT  BLOCK  \\\n",
       "0  07 RENTALS - WALKUP APARTMENTS                                2A    392   \n",
       "1  07 RENTALS - WALKUP APARTMENTS                                 2    399   \n",
       "2  07 RENTALS - WALKUP APARTMENTS                                 2    399   \n",
       "3  07 RENTALS - WALKUP APARTMENTS                                2B    402   \n",
       "4  07 RENTALS - WALKUP APARTMENTS                                2A    404   \n",
       "5  07 RENTALS - WALKUP APARTMENTS                                 2    405   \n",
       "6  07 RENTALS - WALKUP APARTMENTS                                2B    406   \n",
       "7  07 RENTALS - WALKUP APARTMENTS                                 2    407   \n",
       "8  08 RENTALS - ELEVATOR APARTMENTS                               2    379   \n",
       "9  08 RENTALS - ELEVATOR APARTMENTS                               2    387   \n",
       "\n",
       "   LOT EASE-MENT BUILDING CLASS AT PRESENT                 ADDRESS  ...  \\\n",
       "0    6                                  C2            153 AVENUE B  ...   \n",
       "1   26                                  C7   234 EAST 4TH   STREET  ...   \n",
       "2   39                                  C7   197 EAST 3RD   STREET  ...   \n",
       "3   21                                  C4     154 EAST 7TH STREET  ...   \n",
       "4   55                                  C2  301 EAST 10TH   STREET  ...   \n",
       "5   16                                  C4  516 EAST 12TH   STREET  ...   \n",
       "6   32                                  C4            210 AVENUE B  ...   \n",
       "7   18                                  C7  520 EAST 14TH   STREET  ...   \n",
       "8   34                                  D5            141 AVENUE D  ...   \n",
       "9  153                                  D9     629 EAST 5TH STREET  ...   \n",
       "\n",
       "  RESIDENTIAL UNITS  COMMERCIAL UNITS  TOTAL UNITS  LAND SQUARE FEET  \\\n",
       "0                 5                 0            5              1633   \n",
       "1                28                 3           31              4616   \n",
       "2                16                 1           17              2212   \n",
       "3                10                 0           10              2272   \n",
       "4                 6                 0            6              2369   \n",
       "5                20                 0           20              2581   \n",
       "6                 8                 0            8              1750   \n",
       "7                44                 2           46              5163   \n",
       "8                15                 0           15              1534   \n",
       "9                24                 0           24              4489   \n",
       "\n",
       "   GROSS SQUARE FEET YEAR BUILT TAX CLASS AT TIME OF SALE  \\\n",
       "0               6440       1900                         2   \n",
       "1              18690       1900                         2   \n",
       "2               7803       1900                         2   \n",
       "3               6794       1913                         2   \n",
       "4               4615       1900                         2   \n",
       "5               9730       1900                         2   \n",
       "6               4226       1920                         2   \n",
       "7              21007       1900                         2   \n",
       "8               9198       1920                         2   \n",
       "9              18523       1920                         2   \n",
       "\n",
       "   BUILDING CLASS AT TIME OF SALE  SALE PRICE            SALE DATE  \n",
       "0                              C2     6625000  2017-07-19 00:00:00  \n",
       "1                              C7         -    2016-12-14 00:00:00  \n",
       "2                              C7         -    2016-12-09 00:00:00  \n",
       "3                              C4     3936272  2016-09-23 00:00:00  \n",
       "4                              C2     8000000  2016-11-17 00:00:00  \n",
       "5                              C4         -    2017-07-20 00:00:00  \n",
       "6                              C4     3192840  2016-09-23 00:00:00  \n",
       "7                              C7         -    2017-07-20 00:00:00  \n",
       "8                              D5         -    2017-06-20 00:00:00  \n",
       "9                              D9    16232000  2016-11-07 00:00:00  \n",
       "\n",
       "[10 rows x 22 columns]"
      ]
     },
     "execution_count": 3,
     "metadata": {},
     "output_type": "execute_result"
    }
   ],
   "source": [
    "#Menampilkan 10 data dari atas\n",
    "df.head(10)"
   ]
  },
  {
   "cell_type": "code",
   "execution_count": 4,
   "id": "cdf1941e",
   "metadata": {},
   "outputs": [
    {
     "data": {
      "text/plain": [
       "(84548, 22)"
      ]
     },
     "execution_count": 4,
     "metadata": {},
     "output_type": "execute_result"
    }
   ],
   "source": [
    "# Melihat jumlah baris dan kolom\n",
    "df.shape"
   ]
  },
  {
   "cell_type": "code",
   "execution_count": 5,
   "id": "f599686f",
   "metadata": {},
   "outputs": [
    {
     "name": "stdout",
     "output_type": "stream",
     "text": [
      "<class 'pandas.core.frame.DataFrame'>\n",
      "RangeIndex: 84548 entries, 0 to 84547\n",
      "Data columns (total 22 columns):\n",
      " #   Column                          Non-Null Count  Dtype \n",
      "---  ------                          --------------  ----- \n",
      " 0   Unnamed: 0                      84548 non-null  int64 \n",
      " 1   BOROUGH                         84548 non-null  int64 \n",
      " 2   NEIGHBORHOOD                    84548 non-null  object\n",
      " 3   BUILDING CLASS CATEGORY         84548 non-null  object\n",
      " 4   TAX CLASS AT PRESENT            84548 non-null  object\n",
      " 5   BLOCK                           84548 non-null  int64 \n",
      " 6   LOT                             84548 non-null  int64 \n",
      " 7   EASE-MENT                       84548 non-null  object\n",
      " 8   BUILDING CLASS AT PRESENT       84548 non-null  object\n",
      " 9   ADDRESS                         84548 non-null  object\n",
      " 10  APARTMENT NUMBER                84548 non-null  object\n",
      " 11  ZIP CODE                        84548 non-null  int64 \n",
      " 12  RESIDENTIAL UNITS               84548 non-null  int64 \n",
      " 13  COMMERCIAL UNITS                84548 non-null  int64 \n",
      " 14  TOTAL UNITS                     84548 non-null  int64 \n",
      " 15  LAND SQUARE FEET                84548 non-null  object\n",
      " 16  GROSS SQUARE FEET               84548 non-null  object\n",
      " 17  YEAR BUILT                      84548 non-null  int64 \n",
      " 18  TAX CLASS AT TIME OF SALE       84548 non-null  int64 \n",
      " 19  BUILDING CLASS AT TIME OF SALE  84548 non-null  object\n",
      " 20  SALE PRICE                      84548 non-null  object\n",
      " 21  SALE DATE                       84548 non-null  object\n",
      "dtypes: int64(10), object(12)\n",
      "memory usage: 14.2+ MB\n"
     ]
    }
   ],
   "source": [
    "#Melihat Informasi struktur DataFrame \n",
    "df.info()"
   ]
  },
  {
   "cell_type": "code",
   "execution_count": 6,
   "id": "401e1ee3",
   "metadata": {},
   "outputs": [
    {
     "data": {
      "text/plain": [
       "Index(['Unnamed: 0', 'BOROUGH', 'NEIGHBORHOOD', 'BUILDING CLASS CATEGORY',\n",
       "       'TAX CLASS AT PRESENT', 'BLOCK', 'LOT', 'EASE-MENT',\n",
       "       'BUILDING CLASS AT PRESENT', 'ADDRESS', 'APARTMENT NUMBER', 'ZIP CODE',\n",
       "       'RESIDENTIAL UNITS', 'COMMERCIAL UNITS', 'TOTAL UNITS',\n",
       "       'LAND SQUARE FEET', 'GROSS SQUARE FEET', 'YEAR BUILT',\n",
       "       'TAX CLASS AT TIME OF SALE', 'BUILDING CLASS AT TIME OF SALE',\n",
       "       'SALE PRICE', 'SALE DATE'],\n",
       "      dtype='object')"
      ]
     },
     "execution_count": 6,
     "metadata": {},
     "output_type": "execute_result"
    }
   ],
   "source": [
    "#Melihat index berdasarkan kolom\n",
    "df.columns"
   ]
  },
  {
   "cell_type": "code",
   "execution_count": 7,
   "id": "497cf7e6",
   "metadata": {},
   "outputs": [
    {
     "name": "stdout",
     "output_type": "stream",
     "text": [
      "\n",
      " Unnamed: 0\n",
      "[    4     5     6 ... 26737 26738 26739]\n",
      "\n",
      " BOROUGH\n",
      "[1 2 3 4 5]\n",
      "\n",
      " NEIGHBORHOOD\n",
      "['ALPHABET CITY' 'CHELSEA' 'CHINATOWN' 'CIVIC CENTER' 'CLINTON'\n",
      " 'EAST VILLAGE' 'FASHION' 'FINANCIAL' 'FLATIRON' 'GRAMERCY'\n",
      " 'GREENWICH VILLAGE-CENTRAL' 'GREENWICH VILLAGE-WEST' 'HARLEM-CENTRAL'\n",
      " 'HARLEM-EAST' 'HARLEM-UPPER' 'HARLEM-WEST' 'INWOOD' 'JAVITS CENTER'\n",
      " 'KIPS BAY' 'LITTLE ITALY' 'LOWER EAST SIDE' 'MANHATTAN VALLEY'\n",
      " 'MIDTOWN CBD' 'MIDTOWN EAST' 'MIDTOWN WEST' 'MORNINGSIDE HEIGHTS'\n",
      " 'MURRAY HILL' 'ROOSEVELT ISLAND' 'SOHO' 'SOUTHBRIDGE' 'TRIBECA'\n",
      " 'UPPER EAST SIDE (59-79)' 'UPPER EAST SIDE (79-96)'\n",
      " 'UPPER EAST SIDE (96-110)' 'UPPER WEST SIDE (59-79)'\n",
      " 'UPPER WEST SIDE (79-96)' 'UPPER WEST SIDE (96-116)'\n",
      " 'WASHINGTON HEIGHTS LOWER' 'WASHINGTON HEIGHTS UPPER' 'BATHGATE'\n",
      " 'BAYCHESTER' 'BEDFORD PARK/NORWOOD' 'BELMONT' 'BRONX PARK' 'BRONXDALE'\n",
      " 'CASTLE HILL/UNIONPORT' 'CITY ISLAND' 'CITY ISLAND-PELHAM STRIP'\n",
      " 'CO-OP CITY' 'COUNTRY CLUB' 'CROTONA PARK' 'EAST RIVER' 'EAST TREMONT'\n",
      " 'FIELDSTON' 'FORDHAM' 'HIGHBRIDGE/MORRIS HEIGHTS' 'HUNTS POINT'\n",
      " 'KINGSBRIDGE HTS/UNIV HTS' 'KINGSBRIDGE/JEROME PARK' 'MELROSE/CONCOURSE'\n",
      " 'MORRIS PARK/VAN NEST' 'MORRISANIA/LONGWOOD' 'MOTT HAVEN/PORT MORRIS'\n",
      " 'MOUNT HOPE/MOUNT EDEN' 'PARKCHESTER' 'PELHAM BAY' 'PELHAM GARDENS'\n",
      " 'PELHAM PARKWAY NORTH' 'PELHAM PARKWAY SOUTH' 'RIVERDALE'\n",
      " 'SCHUYLERVILLE/PELHAM BAY' 'SOUNDVIEW' 'THROGS NECK' 'VAN CORTLANDT PARK'\n",
      " 'WAKEFIELD' 'WESTCHESTER' 'WILLIAMSBRIDGE' 'WOODLAWN' 'BATH BEACH'\n",
      " 'BAY RIDGE' 'BEDFORD STUYVESANT' 'BENSONHURST' 'BERGEN BEACH'\n",
      " 'BOERUM HILL' 'BOROUGH PARK' 'BRIGHTON BEACH' 'BROOKLYN HEIGHTS'\n",
      " 'BROWNSVILLE' 'BUSH TERMINAL' 'BUSHWICK' 'CANARSIE' 'CARROLL GARDENS'\n",
      " 'CLINTON HILL' 'COBBLE HILL' 'COBBLE HILL-WEST' 'CONEY ISLAND'\n",
      " 'CROWN HEIGHTS' 'CYPRESS HILLS' 'DOWNTOWN-FULTON FERRY'\n",
      " 'DOWNTOWN-FULTON MALL' 'DOWNTOWN-METROTECH' 'DYKER HEIGHTS'\n",
      " 'EAST NEW YORK' 'FLATBUSH-CENTRAL' 'FLATBUSH-EAST'\n",
      " 'FLATBUSH-LEFFERTS GARDEN' 'FLATBUSH-NORTH' 'FLATLANDS' 'FORT GREENE'\n",
      " 'GERRITSEN BEACH' 'GOWANUS' 'GRAVESEND' 'GREENPOINT' 'JAMAICA BAY'\n",
      " 'KENSINGTON' 'MADISON' 'MANHATTAN BEACH' 'MARINE PARK' 'MIDWOOD'\n",
      " 'MILL BASIN' 'NAVY YARD' 'OCEAN HILL' 'OCEAN PARKWAY-NORTH'\n",
      " 'OCEAN PARKWAY-SOUTH' 'OLD MILL BASIN' 'PARK SLOPE' 'PARK SLOPE SOUTH'\n",
      " 'PROSPECT HEIGHTS' 'RED HOOK' 'SEAGATE' 'SHEEPSHEAD BAY' 'SPRING CREEK'\n",
      " 'SUNSET PARK' 'WILLIAMSBURG-CENTRAL' 'WILLIAMSBURG-EAST'\n",
      " 'WILLIAMSBURG-NORTH' 'WILLIAMSBURG-SOUTH' 'WINDSOR TERRACE'\n",
      " 'WYCKOFF HEIGHTS' 'AIRPORT LA GUARDIA' 'ARVERNE' 'ASTORIA' 'BAYSIDE'\n",
      " 'BEECHHURST' 'BELLE HARBOR' 'BELLEROSE' 'BRIARWOOD' 'BROAD CHANNEL'\n",
      " 'CAMBRIA HEIGHTS' 'COLLEGE POINT' 'CORONA' 'DOUGLASTON' 'EAST ELMHURST'\n",
      " 'ELMHURST' 'FAR ROCKAWAY' 'FLORAL PARK' 'FLUSHING MEADOW PARK'\n",
      " 'FLUSHING-NORTH' 'FLUSHING-SOUTH' 'FOREST HILLS' 'FRESH MEADOWS'\n",
      " 'GLEN OAKS' 'GLENDALE' 'HAMMELS' 'HILLCREST' 'HOLLIS' 'HOLLIS HILLS'\n",
      " 'HOLLISWOOD' 'HOWARD BEACH' 'JACKSON HEIGHTS' 'JAMAICA' 'JAMAICA ESTATES'\n",
      " 'JAMAICA HILLS' 'KEW GARDENS' 'LAURELTON' 'LITTLE NECK'\n",
      " 'LONG ISLAND CITY' 'MASPETH' 'MIDDLE VILLAGE' 'NEPONSIT'\n",
      " 'OAKLAND GARDENS' 'OZONE PARK' 'QUEENS VILLAGE' 'REGO PARK'\n",
      " 'RICHMOND HILL' 'RIDGEWOOD' 'ROCKAWAY PARK' 'ROSEDALE'\n",
      " 'SO. JAMAICA-BAISLEY PARK' 'SOUTH JAMAICA' 'SOUTH OZONE PARK'\n",
      " 'SPRINGFIELD GARDENS' 'ST. ALBANS' 'SUNNYSIDE' 'WHITESTONE' 'WOODHAVEN'\n",
      " 'WOODSIDE' 'ANNADALE' 'ARDEN HEIGHTS' 'ARROCHAR' 'ARROCHAR-SHORE ACRES'\n",
      " 'BLOOMFIELD' 'BULLS HEAD' 'CASTLETON CORNERS' 'CLOVE LAKES' 'CONCORD'\n",
      " 'CONCORD-FOX HILLS' 'DONGAN HILLS' 'DONGAN HILLS-COLONY'\n",
      " 'DONGAN HILLS-OLD TOWN' 'ELTINGVILLE' 'EMERSON HILL' 'FRESH KILLS'\n",
      " 'GRANT CITY' 'GRASMERE' 'GREAT KILLS' 'GREAT KILLS-BAY TERRACE'\n",
      " 'GRYMES HILL' 'HUGUENOT' 'LIVINGSTON' 'MANOR HEIGHTS' 'MARINERS HARBOR'\n",
      " 'MIDLAND BEACH' 'NEW BRIGHTON' 'NEW BRIGHTON-ST. GEORGE' 'NEW DORP'\n",
      " 'NEW DORP-BEACH' 'NEW DORP-HEIGHTS' 'NEW SPRINGVILLE' 'OAKWOOD'\n",
      " 'OAKWOOD-BEACH' 'PLEASANT PLAINS' 'PORT IVORY' 'PORT RICHMOND'\n",
      " 'PRINCES BAY' 'RICHMONDTOWN' 'RICHMONDTOWN-LIGHTHS HILL' 'ROSEBANK'\n",
      " 'ROSSVILLE' 'ROSSVILLE-CHARLESTON' 'ROSSVILLE-PORT MOBIL'\n",
      " 'ROSSVILLE-RICHMOND VALLEY' 'SILVER LAKE' 'SOUTH BEACH' 'STAPLETON'\n",
      " 'STAPLETON-CLIFTON' 'TODT HILL' 'TOMPKINSVILLE' 'TOTTENVILLE' 'TRAVIS'\n",
      " 'WEST NEW BRIGHTON' 'WESTERLEIGH' 'WILLOWBROOK' 'WOODROW']\n",
      "\n",
      " BUILDING CLASS CATEGORY\n",
      "['07 RENTALS - WALKUP APARTMENTS             '\n",
      " '08 RENTALS - ELEVATOR APARTMENTS           '\n",
      " '09 COOPS - WALKUP APARTMENTS               '\n",
      " '10 COOPS - ELEVATOR APARTMENTS             '\n",
      " '11A CONDO-RENTALS                           '\n",
      " '12 CONDOS - WALKUP APARTMENTS              '\n",
      " '13 CONDOS - ELEVATOR APARTMENTS            '\n",
      " '14 RENTALS - 4-10 UNIT                     '\n",
      " '15 CONDOS - 2-10 UNIT RESIDENTIAL          '\n",
      " '16 CONDOS - 2-10 UNIT WITH COMMERCIAL UNIT '\n",
      " '17 CONDO COOPS                             '\n",
      " '22 STORE BUILDINGS                         '\n",
      " '37 RELIGIOUS FACILITIES                    '\n",
      " '42 CONDO CULTURAL/MEDICAL/EDUCATIONAL/ETC  '\n",
      " '46 CONDO STORE BUILDINGS                   '\n",
      " '47 CONDO NON-BUSINESS STORAGE              '\n",
      " '01 ONE FAMILY DWELLINGS                    '\n",
      " '02 TWO FAMILY DWELLINGS                    '\n",
      " '03 THREE FAMILY DWELLINGS                  '\n",
      " '04 TAX CLASS 1 CONDOS                      '\n",
      " '21 OFFICE BUILDINGS                        '\n",
      " '23 LOFT BUILDINGS                          '\n",
      " '25 LUXURY HOTELS                           '\n",
      " '26 OTHER HOTELS                            '\n",
      " '28 COMMERCIAL CONDOS                       '\n",
      " '29 COMMERCIAL GARAGES                      '\n",
      " '35 INDOOR PUBLIC AND CULTURAL FACILITIES   '\n",
      " '38 ASYLUMS AND HOMES                       '\n",
      " '43 CONDO OFFICE BUILDINGS                  '\n",
      " '44 CONDO PARKING                           '\n",
      " '48 CONDO TERRACES/GARDENS/CABANAS          '\n",
      " '31 COMMERCIAL VACANT LAND                  '\n",
      " '32 HOSPITAL AND HEALTH FACILITIES          '\n",
      " '41 TAX CLASS 4 - OTHER                     '\n",
      " '18 TAX CLASS 3 - UNTILITY PROPERTIES       '\n",
      " '30 WAREHOUSES                              '\n",
      " '36 OUTDOOR RECREATIONAL FACILITIES         '\n",
      " '49 CONDO WAREHOUSES/FACTORY/INDUS          '\n",
      " '34 THEATRES                                '\n",
      " '27 FACTORIES                               '\n",
      " '40 SELECTED GOVERNMENTAL FACILITIES        '\n",
      " '45 CONDO HOTELS                            '\n",
      " '33 EDUCATIONAL FACILITIES                  '\n",
      " '11 SPECIAL CONDO BILLING LOTS              '\n",
      " '05 TAX CLASS 1 VACANT LAND                 '\n",
      " '06 TAX CLASS 1 - OTHER                     '\n",
      " '39 TRANSPORTATION FACILITIES               ']\n",
      "\n",
      " TAX CLASS AT PRESENT\n",
      "['2A' '2' '2B' '2C' ' ' '4' '1' '1C' '3' '1A' '1B']\n",
      "\n",
      " BLOCK\n",
      "[ 392  399  402 ... 6918 7074 7092]\n",
      "\n",
      " LOT\n",
      "[  6  26  39 ... 655 423 679]\n",
      "\n",
      " EASE-MENT\n",
      "[' ']\n",
      "\n",
      " BUILDING CLASS AT PRESENT\n",
      "['C2' 'C7' 'C4' 'D5' 'D9' 'D7' 'D1' 'C6' 'D0' 'D4' 'RR' ' ' 'R2' 'R4' 'S3'\n",
      " 'S4' 'S5' 'R1' 'R8' 'R9' 'K4' 'M9' 'M3' 'RK' 'RS' 'A9' 'A4' 'B3' 'B1'\n",
      " 'S2' 'C0' 'R6' 'C5' 'C3' 'C1' 'D6' 'S9' 'O2' 'O1' 'O3' 'O5' 'O6' 'K1'\n",
      " 'K2' 'L9' 'L8' 'L1' 'H1' 'H8' 'H3' 'R5' 'G6' 'P7' 'M1' 'N2' 'RB' 'RG'\n",
      " 'RT' 'K9' 'V1' 'GW' 'G2' 'I7' 'M4' 'Z9' 'B9' 'D3' 'G9' 'I9' 'U6' 'O4'\n",
      " 'L3' 'H2' 'E1' 'Z3' 'RW' 'C9' 'J5' 'N9' 'S1' 'A5' 'J8' 'B2' 'C8' 'F5'\n",
      " 'Q1' 'G7' 'G5' 'G4' 'P2' 'Q9' 'Y1' 'RA' 'RP' 'O8' 'HR' 'G1' 'E7' 'I5'\n",
      " 'R3' 'I4' 'H9' 'RH' 'D8' 'HB' 'J4' 'W2' 'P9' 'A7' 'D2' 'S0' 'O7' 'O9'\n",
      " 'W3' 'HS' 'H6' 'J9' 'R0' 'HH' 'W8' 'W6' 'A1' 'K5' 'F1' 'V9' 'A2' 'V0'\n",
      " 'G0' 'F4' 'E9' 'I3' 'W4' 'V3' 'I1' 'A6' 'Q8' 'A3' 'Z0' 'W1' 'U1' 'F2'\n",
      " 'F9' 'GU' 'I6' 'G8' 'P5' 'Y3' 'W9' 'M2' 'G3' 'V6' 'K7' 'K3' 'R7' 'P8'\n",
      " 'K6' 'V2' 'E2' 'Z2' 'T2' 'K8' 'P6' 'A0' 'H4' 'J1' 'CM' 'Z7']\n",
      "\n",
      " ADDRESS\n",
      "['153 AVENUE B' '234 EAST 4TH   STREET' '197 EAST 3RD   STREET' ...\n",
      " '49 PITNEY AVENUE' '2730 ARTHUR KILL ROAD' '155 CLAY PIT ROAD']\n",
      "\n",
      " APARTMENT NUMBER\n",
      "[' ' 'RES' 'UNIT1' ... '115' 'MS-B' '363']\n",
      "\n",
      " ZIP CODE\n",
      "[10009     0 10002 10011 10001 10014 10010 10013 10038 10007 10036 10019\n",
      " 10018 10003 10005 10004 10006 10016 10012 10026 10030 10031 10027 10035\n",
      " 10037 10029 10039 10032 10128 10463 10034 10025 10022 10017 10167 10023\n",
      " 10105 10033 10044 10280 10282 10281 10065 10021 10075 10028 10024 10069\n",
      " 10040 10457 10458 10451 10456 10469 10466 10475 10468 10467 10460 10473\n",
      " 10472 10464 10462 10803 10465 10459 10471 10453 10452 10454 10474 10455\n",
      " 10461 10470 11228 11214 11220 11209 11219 11221 11233 11213 11206 11216\n",
      " 11205 11238 11226 11204 11234 11217 11201 11218 11232 11230 11235 11212\n",
      " 11237 11207 11236 11239 11231 11249 11224 11225 11208 11210 11203 11229\n",
      " 11215 11223 11222 11211 11370 11691 11692 11102 11106 11103 11377 11105\n",
      " 11101 11361 11360 11357 11358 11364 11693 11694 11426 11428 11004 11001\n",
      " 11435 11411 11356 11354 11420 11368 11373 11372 11363 11362 11369 11378\n",
      " 11040 11375 11355 11365 11367 11366 11374 11385 11005 11421 11379 11432\n",
      " 11423 11412 11427 11429 11433 11414 11422 11415 11418 11413 11109 11104\n",
      " 11416 11417 11419 11436 11434 11430 10312 10305 10314 10303 10310 10302\n",
      " 10301 10304 10306 10308 10309 10307]\n",
      "\n",
      " RESIDENTIAL UNITS\n",
      "[   5   28   16   10    6   20    8   44   15   24   30    0   47  132\n",
      "    1    3    4    2   22    9  210   35   17   11    7   18   27   14\n",
      "   12   21   40   19   48   79   55  529  476  317   42   23   25  107\n",
      "  133   31   36   34   33   90   74   29   13  286  256  771  257   38\n",
      "  311   41   51   76   54   45   72   56   68   37   50   26   61   60\n",
      "  894   67  550  184   78  181   86  259  102  233  121   52 1641   96\n",
      "   87  100  113   99   92   70  369   77  232  315   91   32   66   64\n",
      "  109  387  153   59  193   62  103  146  287   94   46   84   75   65\n",
      "   95   49   63   43  716  680  179   71   39   53  283  114   89   73\n",
      "   83  498   81  162  127  222  130   58  159  462  142  948  129  889\n",
      "  271  150  120   57  117  106   85  118  164  139  165  122  134  278\n",
      "  135  324  180  405  136  168  144  152  138   88  244  291 1844  198\n",
      "  148  175  296  446  420  335  143  128]\n",
      "\n",
      " COMMERCIAL UNITS\n",
      "[   0    3    1    2    4   13    5   24    6   19   10   15   14    8\n",
      "    7   35   42   55   17   38   12   27  422    9   23   52  318   20\n",
      "   67   11  254   26   49   30   91   59   62   31   73   56   34   32\n",
      "   18   22   28  147  184   25  172  436   16 2261   51   21  126]\n",
      "\n",
      " TOTAL UNITS\n",
      "[   5   31   17   10    6   20    8   46   15   24   34    0   47  132\n",
      "    1    4    2    3    7    9   16  211   32   13   19   35   18   14\n",
      "   30   12   21   23   45   26   11   48   82   55   42   38   27  422\n",
      "  538  482  323   52  318   67   25   22   28  107  137   36   37   96\n",
      "  138   76   33  286  256  771  257   44  315   41   51   40   29   81\n",
      "   54   72   56   68   74   39   50   61  902   70  551  254  185   78\n",
      "  181   49   91   87  269  102  234  235  233   59   62   73   43  121\n",
      " 1653  192  100  113   99   92   75  374   77  238  317   93   69   60\n",
      "   64  111  395  155  193  103  146  287   94   84   65   95   63   71\n",
      "   57  736  680  179   53  291   66  114   79   83  520  163  127  222\n",
      "  130   90   58  159  462  142  955  129  889  109  147  271  150  120\n",
      "  117  106   86  118  164  139  165  122  279  135  324  180  184  104\n",
      "  405  136  168  172  436  145  152  140   89  148  244  295 1866  278\n",
      "  198 2261  176  296  446  420  336  143  126  128]\n",
      "\n",
      " LAND SQUARE FEET\n"
     ]
    },
    {
     "name": "stdout",
     "output_type": "stream",
     "text": [
      "['1633' '4616' '2212' ... '11088' '208033' '10796']\n",
      "\n",
      " GROSS SQUARE FEET\n",
      "['6440' '18690' '7803' ... '977' '2683' '64117']\n",
      "\n",
      " YEAR BUILT\n",
      "[1900 1913 1920 1910 2009 1925 1902 1928 1930 1935 1937 1915 1950 1929\n",
      " 1901 1940 2005    0 1989 2014 2008 1965 2013 2003 2006 2007 1951 1899\n",
      " 1850 1905 1864 1917 1911 1983 1926 1963 1960 1889 1898 1939 1938 1927\n",
      " 1909 1958 1904 1907 1987 1931 1984 1948 2004 1918 1875 2012 1973 2011\n",
      " 1922 2001 1932 1980 1908 1953 1906 2015 1946 1921 2010 1954 1111 1924\n",
      " 1990 1890 1991 1988 1895 2016 1957 1986 1966 1998 1870 1923 1969 2017\n",
      " 1968 1934 1956 1982 1914 1903 1967 1840 1912 1964 1955 1961 1851 2000\n",
      " 1959 1962 1945 1972 1976 1916 1880 1970 1846 1941 1952 1896 1985 1981\n",
      " 1888 1947 1975 1974 2002 1994 1892 1894 1891 1996 1997 1949 1999 1800\n",
      " 1979 1971 1977 1942 1978 1826 1881 1919 1883 1936 1993 1995 1933 1992\n",
      " 1943 1944 1847 1829 1844 1835 1852 1856 1854 1832 1845 1849 1855 1871\n",
      " 1893 1865 1882 1680]\n",
      "\n",
      " TAX CLASS AT TIME OF SALE\n",
      "[2 4 1 3]\n",
      "\n",
      " BUILDING CLASS AT TIME OF SALE\n",
      "['C2' 'C7' 'C4' 'D5' 'D9' 'D7' 'D1' 'C6' 'D0' 'D4' 'RR' 'R2' 'R4' 'S3'\n",
      " 'S4' 'S5' 'R1' 'R8' 'R9' 'K4' 'M9' 'M3' 'RA' 'RK' 'RS' 'A9' 'A4' 'B3'\n",
      " 'B1' 'S2' 'C0' 'R6' 'C5' 'C3' 'C1' 'D6' 'S9' 'O2' 'O1' 'O3' 'O5' 'O6'\n",
      " 'K1' 'K2' 'L9' 'L8' 'L1' 'H1' 'H8' 'H3' 'R5' 'G9' 'G6' 'P7' 'M1' 'N2'\n",
      " 'RB' 'RG' 'RT' 'K9' 'V1' 'GW' 'G2' 'I7' 'M4' 'Z9' 'B9' 'D3' 'I9' 'U6'\n",
      " 'O4' 'L3' 'H2' 'E1' 'Z3' 'Q1' 'RW' 'C9' 'J5' 'N9' 'S1' 'A5' 'J8' 'B2'\n",
      " 'C8' 'F5' 'G7' 'G5' 'G4' 'P2' 'Q9' 'Y1' 'RP' 'O8' 'HR' 'G1' 'E7' 'I5'\n",
      " 'R3' 'I4' 'H9' 'RH' 'D8' 'HB' 'J4' 'W2' 'P9' 'A7' 'D2' 'S0' 'O7' 'O9'\n",
      " 'W3' 'HS' 'H6' 'J9' 'R0' 'HH' 'W8' 'W6' 'A1' 'K5' 'F1' 'V9' 'A2' 'V0'\n",
      " 'G0' 'F4' 'E9' 'I3' 'W4' 'V3' 'I1' 'A6' 'Q8' 'A3' 'Z0' 'W1' 'U1' 'F2'\n",
      " 'F9' 'GU' 'I6' 'G8' 'P5' 'Y3' 'W9' 'M2' 'G3' 'V6' 'K7' 'K3' 'H4' 'R7'\n",
      " 'P8' 'K6' 'V2' 'E2' 'Z2' 'T2' 'K8' 'P6' 'A0' 'J1' 'CM' 'Z7']\n",
      "\n",
      " SALE PRICE\n",
      "['6625000' ' -  ' '3936272' ... '408092' '11693337' '69300']\n",
      "\n",
      " SALE DATE\n",
      "['2017-07-19 00:00:00' '2016-12-14 00:00:00' '2016-12-09 00:00:00'\n",
      " '2016-09-23 00:00:00' '2016-11-17 00:00:00' '2017-07-20 00:00:00'\n",
      " '2017-06-20 00:00:00' '2016-11-07 00:00:00' '2016-10-17 00:00:00'\n",
      " '2016-09-06 00:00:00' '2017-03-10 00:00:00' '2017-04-28 00:00:00'\n",
      " '2017-06-09 00:00:00' '2017-07-14 00:00:00' '2017-03-16 00:00:00'\n",
      " '2016-09-01 00:00:00' '2017-08-17 00:00:00' '2016-09-07 00:00:00'\n",
      " '2017-08-30 00:00:00' '2017-06-21 00:00:00' '2017-01-30 00:00:00'\n",
      " '2017-07-07 00:00:00' '2017-08-04 00:00:00' '2017-01-09 00:00:00'\n",
      " '2017-04-18 00:00:00' '2017-06-19 00:00:00' '2017-08-28 00:00:00'\n",
      " '2017-05-10 00:00:00' '2016-12-02 00:00:00' '2017-01-31 00:00:00'\n",
      " '2017-06-28 00:00:00' '2016-12-07 00:00:00' '2017-08-24 00:00:00'\n",
      " '2017-06-27 00:00:00' '2017-03-17 00:00:00' '2017-06-14 00:00:00'\n",
      " '2017-01-17 00:00:00' '2017-01-11 00:00:00' '2017-04-21 00:00:00'\n",
      " '2017-06-29 00:00:00' '2016-10-05 00:00:00' '2017-02-02 00:00:00'\n",
      " '2017-03-20 00:00:00' '2017-04-13 00:00:00' '2017-06-06 00:00:00'\n",
      " '2017-07-17 00:00:00' '2016-12-06 00:00:00' '2017-07-13 00:00:00'\n",
      " '2017-05-17 00:00:00' '2017-05-31 00:00:00' '2017-07-12 00:00:00'\n",
      " '2017-01-19 00:00:00' '2017-05-03 00:00:00' '2016-09-29 00:00:00'\n",
      " '2017-08-07 00:00:00' '2017-01-20 00:00:00' '2017-02-23 00:00:00'\n",
      " '2016-09-12 00:00:00' '2017-08-09 00:00:00' '2017-04-07 00:00:00'\n",
      " '2017-05-11 00:00:00' '2016-10-13 00:00:00' '2016-10-19 00:00:00'\n",
      " '2016-12-30 00:00:00' '2017-02-24 00:00:00' '2016-09-21 00:00:00'\n",
      " '2016-11-03 00:00:00' '2017-03-31 00:00:00' '2017-05-25 00:00:00'\n",
      " '2017-02-14 00:00:00' '2017-02-01 00:00:00' '2017-05-08 00:00:00'\n",
      " '2017-08-14 00:00:00' '2017-06-23 00:00:00' '2017-03-27 00:00:00'\n",
      " '2017-04-22 00:00:00' '2017-07-06 00:00:00' '2017-06-12 00:00:00'\n",
      " '2017-06-22 00:00:00' '2017-02-17 00:00:00' '2016-09-08 00:00:00'\n",
      " '2016-12-23 00:00:00' '2017-07-24 00:00:00' '2016-10-08 00:00:00'\n",
      " '2016-12-08 00:00:00' '2017-04-25 00:00:00' '2016-12-13 00:00:00'\n",
      " '2017-01-12 00:00:00' '2017-03-03 00:00:00' '2017-01-25 00:00:00'\n",
      " '2016-12-19 00:00:00' '2016-12-16 00:00:00' '2016-12-29 00:00:00'\n",
      " '2017-01-13 00:00:00' '2016-12-21 00:00:00' '2017-03-30 00:00:00'\n",
      " '2017-04-14 00:00:00' '2017-05-22 00:00:00' '2017-05-19 00:00:00'\n",
      " '2017-02-08 00:00:00' '2016-11-08 00:00:00' '2017-03-02 00:00:00'\n",
      " '2017-01-05 00:00:00' '2016-10-11 00:00:00' '2016-11-15 00:00:00'\n",
      " '2017-04-03 00:00:00' '2016-11-28 00:00:00' '2016-11-14 00:00:00'\n",
      " '2017-04-20 00:00:00' '2017-05-05 00:00:00' '2016-11-16 00:00:00'\n",
      " '2017-07-18 00:00:00' '2017-05-15 00:00:00' '2017-07-31 00:00:00'\n",
      " '2017-06-07 00:00:00' '2016-11-02 00:00:00' '2017-04-19 00:00:00'\n",
      " '2017-07-11 00:00:00' '2016-09-28 00:00:00' '2017-01-06 00:00:00'\n",
      " '2016-10-20 00:00:00' '2017-03-28 00:00:00' '2017-04-17 00:00:00'\n",
      " '2016-10-26 00:00:00' '2017-02-06 00:00:00' '2017-03-23 00:00:00'\n",
      " '2017-08-31 00:00:00' '2017-07-27 00:00:00' '2016-11-10 00:00:00'\n",
      " '2016-10-28 00:00:00' '2016-12-05 00:00:00' '2016-11-29 00:00:00'\n",
      " '2016-11-21 00:00:00' '2017-01-27 00:00:00' '2016-09-26 00:00:00'\n",
      " '2017-02-21 00:00:00' '2016-10-06 00:00:00' '2017-08-25 00:00:00'\n",
      " '2016-11-30 00:00:00' '2017-02-16 00:00:00' '2017-03-01 00:00:00'\n",
      " '2016-10-31 00:00:00' '2016-12-20 00:00:00' '2016-11-18 00:00:00'\n",
      " '2017-04-10 00:00:00' '2016-11-23 00:00:00' '2016-12-27 00:00:00'\n",
      " '2017-05-12 00:00:00' '2017-02-15 00:00:00' '2017-07-10 00:00:00'\n",
      " '2017-03-06 00:00:00' '2017-06-30 00:00:00' '2017-07-26 00:00:00'\n",
      " '2017-03-22 00:00:00' '2017-03-08 00:00:00' '2016-09-14 00:00:00'\n",
      " '2017-04-26 00:00:00' '2016-09-27 00:00:00' '2017-04-27 00:00:00'\n",
      " '2016-12-01 00:00:00' '2017-01-23 00:00:00' '2016-11-04 00:00:00'\n",
      " '2016-10-07 00:00:00' '2017-06-05 00:00:00' '2017-05-23 00:00:00'\n",
      " '2017-01-26 00:00:00' '2016-12-28 00:00:00' '2017-05-02 00:00:00'\n",
      " '2017-03-07 00:00:00' '2017-05-01 00:00:00' '2016-10-14 00:00:00'\n",
      " '2016-12-15 00:00:00' '2016-11-01 00:00:00' '2016-09-15 00:00:00'\n",
      " '2016-10-01 00:00:00' '2016-10-24 00:00:00' '2016-11-11 00:00:00'\n",
      " '2017-02-09 00:00:00' '2017-07-25 00:00:00' '2017-03-15 00:00:00'\n",
      " '2016-09-16 00:00:00' '2017-03-29 00:00:00' '2017-06-26 00:00:00'\n",
      " '2016-10-18 00:00:00' '2016-12-22 00:00:00' '2016-09-09 00:00:00'\n",
      " '2016-11-09 00:00:00' '2017-05-04 00:00:00' '2017-06-13 00:00:00'\n",
      " '2017-02-10 00:00:00' '2017-04-24 00:00:00' '2017-05-24 00:00:00'\n",
      " '2017-02-28 00:00:00' '2017-04-11 00:00:00' '2016-10-25 00:00:00'\n",
      " '2017-08-21 00:00:00' '2017-08-29 00:00:00' '2017-08-01 00:00:00'\n",
      " '2017-06-08 00:00:00' '2017-08-23 00:00:00' '2016-10-27 00:00:00'\n",
      " '2017-06-02 00:00:00' '2017-06-16 00:00:00' '2016-11-22 00:00:00'\n",
      " '2017-07-05 00:00:00' '2016-09-13 00:00:00' '2017-03-13 00:00:00'\n",
      " '2017-01-03 00:00:00' '2017-01-04 00:00:00' '2017-01-18 00:00:00'\n",
      " '2017-05-18 00:00:00' '2017-05-30 00:00:00' '2017-01-10 00:00:00'\n",
      " '2017-08-11 00:00:00' '2017-08-02 00:00:00' '2017-07-28 00:00:00'\n",
      " '2017-06-15 00:00:00' '2017-08-22 00:00:00' '2016-09-02 00:00:00'\n",
      " '2017-02-03 00:00:00' '2017-04-06 00:00:00' '2017-02-07 00:00:00'\n",
      " '2017-05-26 00:00:00' '2017-08-10 00:00:00' '2017-01-24 00:00:00'\n",
      " '2016-12-26 00:00:00' '2017-08-18 00:00:00' '2017-02-13 00:00:00'\n",
      " '2016-09-30 00:00:00' '2017-04-12 00:00:00' '2017-05-09 00:00:00'\n",
      " '2016-10-29 00:00:00' '2017-02-27 00:00:00' '2017-01-01 00:00:00'\n",
      " '2017-06-01 00:00:00' '2016-10-03 00:00:00' '2017-08-15 00:00:00'\n",
      " '2016-12-12 00:00:00' '2016-12-17 00:00:00' '2017-08-03 00:00:00'\n",
      " '2016-09-22 00:00:00' '2016-12-31 00:00:00' '2016-10-04 00:00:00'\n",
      " '2016-09-20 00:00:00' '2017-03-21 00:00:00' '2017-08-08 00:00:00'\n",
      " '2017-04-05 00:00:00' '2017-08-16 00:00:00' '2017-02-22 00:00:00'\n",
      " '2017-02-04 00:00:00' '2017-05-16 00:00:00' '2017-03-24 00:00:00'\n",
      " '2017-03-09 00:00:00' '2017-07-21 00:00:00' '2017-04-04 00:00:00'\n",
      " '2016-09-19 00:00:00' '2017-01-07 00:00:00' '2016-10-21 00:00:00'\n",
      " '2017-04-29 00:00:00' '2017-07-22 00:00:00' '2017-02-20 00:00:00'\n",
      " '2016-10-23 00:00:00' '2017-01-02 00:00:00' '2016-10-12 00:00:00'\n",
      " '2017-07-15 00:00:00' '2016-10-16 00:00:00' '2017-03-14 00:00:00'\n",
      " '2017-04-30 00:00:00' '2017-04-09 00:00:00' '2017-03-04 00:00:00'\n",
      " '2016-09-17 00:00:00' '2017-06-03 00:00:00' '2017-05-06 00:00:00'\n",
      " '2017-07-03 00:00:00' '2017-01-28 00:00:00' '2017-03-05 00:00:00'\n",
      " '2016-11-27 00:00:00' '2017-02-11 00:00:00' '2017-06-24 00:00:00'\n",
      " '2017-01-21 00:00:00' '2016-10-22 00:00:00' '2016-10-10 00:00:00'\n",
      " '2016-11-05 00:00:00' '2017-05-20 00:00:00' '2017-08-06 00:00:00'\n",
      " '2017-05-21 00:00:00' '2016-09-10 00:00:00' '2016-11-13 00:00:00'\n",
      " '2016-10-09 00:00:00' '2016-10-15 00:00:00' '2016-11-25 00:00:00'\n",
      " '2017-02-18 00:00:00' '2016-09-25 00:00:00' '2016-11-20 00:00:00'\n",
      " '2017-04-01 00:00:00' '2017-01-16 00:00:00' '2017-05-13 00:00:00'\n",
      " '2016-11-12 00:00:00' '2017-07-01 00:00:00' '2017-03-19 00:00:00'\n",
      " '2017-07-16 00:00:00' '2016-09-05 00:00:00' '2016-10-30 00:00:00'\n",
      " '2017-02-26 00:00:00' '2017-01-15 00:00:00' '2016-11-06 00:00:00'\n",
      " '2017-03-18 00:00:00' '2017-08-27 00:00:00' '2016-11-26 00:00:00'\n",
      " '2017-01-22 00:00:00' '2017-05-29 00:00:00' '2017-04-16 00:00:00'\n",
      " '2017-01-14 00:00:00' '2017-04-15 00:00:00' '2017-07-08 00:00:00'\n",
      " '2016-11-24 00:00:00' '2017-08-26 00:00:00' '2017-02-25 00:00:00'\n",
      " '2017-05-27 00:00:00' '2016-10-02 00:00:00' '2017-03-25 00:00:00'\n",
      " '2016-11-19 00:00:00' '2017-05-14 00:00:00' '2017-02-05 00:00:00'\n",
      " '2016-09-03 00:00:00' '2017-04-08 00:00:00' '2017-06-11 00:00:00'\n",
      " '2016-12-10 00:00:00' '2017-03-11 00:00:00' '2017-03-12 00:00:00'\n",
      " '2017-01-29 00:00:00' '2017-08-05 00:00:00' '2016-09-11 00:00:00'\n",
      " '2017-06-17 00:00:00' '2017-06-25 00:00:00' '2017-03-26 00:00:00'\n",
      " '2017-07-29 00:00:00' '2017-06-18 00:00:00' '2017-05-28 00:00:00'\n",
      " '2017-05-07 00:00:00' '2017-06-10 00:00:00' '2016-12-24 00:00:00'\n",
      " '2016-09-24 00:00:00' '2016-12-18 00:00:00' '2017-04-02 00:00:00'\n",
      " '2017-08-20 00:00:00' '2017-08-12 00:00:00' '2016-12-11 00:00:00'\n",
      " '2017-08-19 00:00:00' '2016-09-18 00:00:00' '2017-02-19 00:00:00'\n",
      " '2017-07-02 00:00:00' '2017-07-30 00:00:00' '2017-01-08 00:00:00'\n",
      " '2017-07-23 00:00:00' '2017-08-13 00:00:00' '2017-07-04 00:00:00'\n",
      " '2016-12-04 00:00:00' '2017-04-23 00:00:00' '2016-12-03 00:00:00'\n",
      " '2017-07-09 00:00:00' '2016-09-04 00:00:00' '2017-02-12 00:00:00'\n",
      " '2017-06-04 00:00:00']\n"
     ]
    }
   ],
   "source": [
    "# Melihat nilai unik pada data\n",
    "for i in df.columns:\n",
    "    print(\"\\n\", i)\n",
    "    print(df[i].unique())\n"
   ]
  },
  {
   "cell_type": "code",
   "execution_count": 8,
   "id": "efdb4e1b",
   "metadata": {},
   "outputs": [
    {
     "name": "stdout",
     "output_type": "stream",
     "text": [
      "SALE DATE\n"
     ]
    }
   ],
   "source": [
    "print(i)"
   ]
  },
  {
   "cell_type": "code",
   "execution_count": 10,
   "id": "690c430e",
   "metadata": {},
   "outputs": [],
   "source": [
    "#Membuat variabel missing_values untuk menampung data missing values\n",
    "missing_values = ['na','--','NaN','NA','n/a','?',' ','n-a',' -  ']\n",
    "df = pd.read_csv('D:/Hacktiv8/nyc-rolling-sales.csv', na_values=missing_values)"
   ]
  },
  {
   "cell_type": "code",
   "execution_count": 11,
   "id": "3126a9df",
   "metadata": {},
   "outputs": [
    {
     "name": "stdout",
     "output_type": "stream",
     "text": [
      "['na', '--', 'NaN', 'NA', 'n/a', '?', ' ', 'n-a', ' -  ']\n"
     ]
    }
   ],
   "source": [
    "print(missing_values)"
   ]
  },
  {
   "cell_type": "markdown",
   "id": "2532948e",
   "metadata": {},
   "source": [
    "## Preprocessing Data"
   ]
  },
  {
   "cell_type": "code",
   "execution_count": 12,
   "id": "49e77aed",
   "metadata": {},
   "outputs": [],
   "source": [
    "# Melihat data pada kolom unnamed dan kolom EASE-MENT yang merupakan data sampah \n",
    "\n",
    "df.drop([\"Unnamed: 0\", \"EASE-MENT\"], axis=1, inplace=True)"
   ]
  },
  {
   "cell_type": "code",
   "execution_count": 13,
   "id": "176d1372",
   "metadata": {},
   "outputs": [],
   "source": [
    "#Mengubah tipe data SALE DATE menjadi datetime\n",
    "df['SALE DATE'] = pd.to_datetime(df['SALE DATE'], errors='coerce')"
   ]
  },
  {
   "cell_type": "code",
   "execution_count": 14,
   "id": "3f700f2a",
   "metadata": {},
   "outputs": [
    {
     "data": {
      "text/plain": [
       "0       2017-07-19\n",
       "1       2016-12-14\n",
       "2       2016-12-09\n",
       "3       2016-09-23\n",
       "4       2016-11-17\n",
       "           ...    \n",
       "84543   2016-11-28\n",
       "84544   2017-04-21\n",
       "84545   2017-07-05\n",
       "84546   2016-12-21\n",
       "84547   2016-10-27\n",
       "Name: SALE DATE, Length: 84548, dtype: datetime64[ns]"
      ]
     },
     "execution_count": 14,
     "metadata": {},
     "output_type": "execute_result"
    }
   ],
   "source": [
    "df['SALE DATE']"
   ]
  },
  {
   "cell_type": "code",
   "execution_count": 15,
   "id": "87cf86bb",
   "metadata": {},
   "outputs": [],
   "source": [
    "#Mengubah tipe data menjadi numeric\n",
    "numeric = [\"RESIDENTIAL UNITS\",\"COMMERCIAL UNITS\",\"TOTAL UNITS\", \"LAND SQUARE FEET\" , \"GROSS SQUARE FEET\",\"SALE PRICE\" ]\n",
    "for col in numeric:\n",
    "    df[col] = pd.to_numeric(df[col], errors='coerce')"
   ]
  },
  {
   "cell_type": "code",
   "execution_count": 16,
   "id": "fad169e4",
   "metadata": {},
   "outputs": [
    {
     "name": "stdout",
     "output_type": "stream",
     "text": [
      "SALE PRICE\n"
     ]
    }
   ],
   "source": [
    "print(col)"
   ]
  },
  {
   "cell_type": "code",
   "execution_count": 17,
   "id": "a1dc6ce8",
   "metadata": {},
   "outputs": [],
   "source": [
    "#Mengubah tipe data menjadi categorical\n",
    "categorical = [\"BOROUGH\",\"NEIGHBORHOOD\",'BUILDING CLASS CATEGORY', 'TAX CLASS AT PRESENT', 'BUILDING CLASS AT PRESENT','ZIP CODE', \n",
    "               'YEAR BUILT', 'BUILDING CLASS AT TIME OF SALE', 'TAX CLASS AT TIME OF SALE']\n",
    "\n",
    "for col in categorical: \n",
    "    df[col] = df[col].astype(\"category\")"
   ]
  },
  {
   "cell_type": "code",
   "execution_count": 18,
   "id": "ababbda9",
   "metadata": {},
   "outputs": [
    {
     "name": "stdout",
     "output_type": "stream",
     "text": [
      "<class 'pandas.core.frame.DataFrame'>\n",
      "RangeIndex: 84548 entries, 0 to 84547\n",
      "Data columns (total 20 columns):\n",
      " #   Column                          Non-Null Count  Dtype         \n",
      "---  ------                          --------------  -----         \n",
      " 0   BOROUGH                         84548 non-null  category      \n",
      " 1   NEIGHBORHOOD                    84548 non-null  category      \n",
      " 2   BUILDING CLASS CATEGORY         84548 non-null  category      \n",
      " 3   TAX CLASS AT PRESENT            83810 non-null  category      \n",
      " 4   BLOCK                           84548 non-null  int64         \n",
      " 5   LOT                             84548 non-null  int64         \n",
      " 6   BUILDING CLASS AT PRESENT       83810 non-null  category      \n",
      " 7   ADDRESS                         84548 non-null  object        \n",
      " 8   APARTMENT NUMBER                19052 non-null  object        \n",
      " 9   ZIP CODE                        84548 non-null  category      \n",
      " 10  RESIDENTIAL UNITS               84548 non-null  int64         \n",
      " 11  COMMERCIAL UNITS                84548 non-null  int64         \n",
      " 12  TOTAL UNITS                     84548 non-null  int64         \n",
      " 13  LAND SQUARE FEET                58296 non-null  float64       \n",
      " 14  GROSS SQUARE FEET               56936 non-null  float64       \n",
      " 15  YEAR BUILT                      84548 non-null  category      \n",
      " 16  TAX CLASS AT TIME OF SALE       84548 non-null  category      \n",
      " 17  BUILDING CLASS AT TIME OF SALE  84548 non-null  category      \n",
      " 18  SALE PRICE                      69987 non-null  float64       \n",
      " 19  SALE DATE                       84548 non-null  datetime64[ns]\n",
      "dtypes: category(9), datetime64[ns](1), float64(3), int64(5), object(2)\n",
      "memory usage: 8.3+ MB\n"
     ]
    }
   ],
   "source": [
    "#Mengecek tipe data\n",
    "df.info()"
   ]
  },
  {
   "cell_type": "code",
   "execution_count": 19,
   "id": "731aaf18",
   "metadata": {},
   "outputs": [
    {
     "data": {
      "text/plain": [
       "BOROUGH                               0\n",
       "NEIGHBORHOOD                          0\n",
       "BUILDING CLASS CATEGORY               0\n",
       "TAX CLASS AT PRESENT                738\n",
       "BLOCK                                 0\n",
       "LOT                                   0\n",
       "BUILDING CLASS AT PRESENT           738\n",
       "ADDRESS                               0\n",
       "APARTMENT NUMBER                  65496\n",
       "ZIP CODE                              0\n",
       "RESIDENTIAL UNITS                     0\n",
       "COMMERCIAL UNITS                      0\n",
       "TOTAL UNITS                           0\n",
       "LAND SQUARE FEET                  26252\n",
       "GROSS SQUARE FEET                 27612\n",
       "YEAR BUILT                            0\n",
       "TAX CLASS AT TIME OF SALE             0\n",
       "BUILDING CLASS AT TIME OF SALE        0\n",
       "SALE PRICE                        14561\n",
       "SALE DATE                             0\n",
       "dtype: int64"
      ]
     },
     "execution_count": 19,
     "metadata": {},
     "output_type": "execute_result"
    }
   ],
   "source": [
    "#Mengecek missing value\n",
    "df.isna().sum()"
   ]
  },
  {
   "cell_type": "code",
   "execution_count": 20,
   "id": "9cfba771",
   "metadata": {},
   "outputs": [
    {
     "data": {
      "text/plain": [
       "765"
      ]
     },
     "execution_count": 20,
     "metadata": {},
     "output_type": "execute_result"
    }
   ],
   "source": [
    "#Mengecek data duplikat\n",
    "df.duplicated().sum()"
   ]
  },
  {
   "cell_type": "code",
   "execution_count": 21,
   "id": "7a2abfcf",
   "metadata": {},
   "outputs": [],
   "source": [
    "#Menghapus data duplikat\n",
    "df.drop_duplicates(inplace=True)"
   ]
  },
  {
   "cell_type": "code",
   "execution_count": 22,
   "id": "51961ef0",
   "metadata": {},
   "outputs": [],
   "source": [
    "#Menghapus kolom APARTMENT NUMBER \n",
    "df.drop([\"APARTMENT NUMBER\"], axis=1, inplace=True)"
   ]
  },
  {
   "cell_type": "code",
   "execution_count": 23,
   "id": "a215a0b2",
   "metadata": {},
   "outputs": [
    {
     "name": "stderr",
     "output_type": "stream",
     "text": [
      "C:\\Users\\Lenovo\\AppData\\Local\\Temp\\ipykernel_6304\\1019434457.py:2: FutureWarning: The default value of numeric_only in DataFrame.skew is deprecated. In a future version, it will default to False. In addition, specifying 'numeric_only=None' is deprecated. Select only valid columns or specify the value of numeric_only to silence this warning.\n",
      "  df.skew(axis=0, skipna=True)\n"
     ]
    },
    {
     "data": {
      "text/plain": [
       "BLOCK                  1.046322\n",
       "LOT                    3.506785\n",
       "RESIDENTIAL UNITS     62.058053\n",
       "COMMERCIAL UNITS     224.990028\n",
       "TOTAL UNITS           65.249327\n",
       "LAND SQUARE FEET      75.762320\n",
       "GROSS SQUARE FEET     61.121216\n",
       "SALE PRICE           123.943132\n",
       "dtype: float64"
      ]
     },
     "execution_count": 23,
     "metadata": {},
     "output_type": "execute_result"
    }
   ],
   "source": [
    "#Melihat skewness dari setiap kolom\n",
    "df.skew(axis=0, skipna=True)"
   ]
  },
  {
   "cell_type": "code",
   "execution_count": 24,
   "id": "1f979d97",
   "metadata": {},
   "outputs": [
    {
     "data": {
      "text/plain": [
       "BOROUGH                               0\n",
       "NEIGHBORHOOD                          0\n",
       "BUILDING CLASS CATEGORY               0\n",
       "TAX CLASS AT PRESENT                738\n",
       "BLOCK                                 0\n",
       "LOT                                   0\n",
       "BUILDING CLASS AT PRESENT           738\n",
       "ADDRESS                               0\n",
       "ZIP CODE                              0\n",
       "RESIDENTIAL UNITS                     0\n",
       "COMMERCIAL UNITS                      0\n",
       "TOTAL UNITS                           0\n",
       "LAND SQUARE FEET                  26054\n",
       "GROSS SQUARE FEET                 27385\n",
       "YEAR BUILT                            0\n",
       "TAX CLASS AT TIME OF SALE             0\n",
       "BUILDING CLASS AT TIME OF SALE        0\n",
       "SALE PRICE                        14176\n",
       "SALE DATE                             0\n",
       "dtype: int64"
      ]
     },
     "execution_count": 24,
     "metadata": {},
     "output_type": "execute_result"
    }
   ],
   "source": [
    "df.isna().sum()"
   ]
  },
  {
   "cell_type": "code",
   "execution_count": 25,
   "id": "a5e2af7d",
   "metadata": {},
   "outputs": [],
   "source": [
    "#Mengatasi missing values\n",
    "#Tipe data kategori\n",
    "replace_mode = ['TAX CLASS AT PRESENT','BUILDING CLASS AT PRESENT']\n",
    "for col1 in replace_mode:\n",
    "    df[col1].fillna(df[col1].mode(), inplace=True)\n",
    "\n",
    "#Tipe data numerik\n",
    "df[\"LAND SQUARE FEET\"]=df[\"LAND SQUARE FEET\"].fillna(df[\"LAND SQUARE FEET\"].median())\n",
    "df[\"GROSS SQUARE FEET\"]=df[\"GROSS SQUARE FEET\"].fillna(df[\"GROSS SQUARE FEET\"].median())\n",
    "df[\"SALE PRICE\"]=df[\"SALE PRICE\"].fillna(df[\"SALE PRICE\"].median())"
   ]
  },
  {
   "cell_type": "code",
   "execution_count": 26,
   "id": "b7653701",
   "metadata": {},
   "outputs": [
    {
     "name": "stdout",
     "output_type": "stream",
     "text": [
      "BUILDING CLASS AT PRESENT\n"
     ]
    }
   ],
   "source": [
    "print(col1)"
   ]
  },
  {
   "cell_type": "code",
   "execution_count": 27,
   "id": "8a725ae7",
   "metadata": {},
   "outputs": [
    {
     "data": {
      "text/plain": [
       "BOROUGH                             0\n",
       "NEIGHBORHOOD                        0\n",
       "BUILDING CLASS CATEGORY             0\n",
       "TAX CLASS AT PRESENT              738\n",
       "BLOCK                               0\n",
       "LOT                                 0\n",
       "BUILDING CLASS AT PRESENT         738\n",
       "ADDRESS                             0\n",
       "ZIP CODE                            0\n",
       "RESIDENTIAL UNITS                   0\n",
       "COMMERCIAL UNITS                    0\n",
       "TOTAL UNITS                         0\n",
       "LAND SQUARE FEET                    0\n",
       "GROSS SQUARE FEET                   0\n",
       "YEAR BUILT                          0\n",
       "TAX CLASS AT TIME OF SALE           0\n",
       "BUILDING CLASS AT TIME OF SALE      0\n",
       "SALE PRICE                          0\n",
       "SALE DATE                           0\n",
       "dtype: int64"
      ]
     },
     "execution_count": 27,
     "metadata": {},
     "output_type": "execute_result"
    }
   ],
   "source": [
    "#Mengecek kembali missing values\n",
    "df.isna().sum()"
   ]
  },
  {
   "cell_type": "code",
   "execution_count": 28,
   "id": "af162112",
   "metadata": {},
   "outputs": [
    {
     "data": {
      "text/plain": [
       "0        1900\n",
       "3        1913\n",
       "6        1920\n",
       "10       1910\n",
       "11       2009\n",
       "         ... \n",
       "33557    1871\n",
       "39533    1893\n",
       "44615    1865\n",
       "45042    1882\n",
       "81875    1680\n",
       "Name: YEAR BUILT, Length: 158, dtype: category\n",
       "Categories (158, int64): [0, 1111, 1680, 1800, ..., 2014, 2015, 2016, 2017]"
      ]
     },
     "execution_count": 28,
     "metadata": {},
     "output_type": "execute_result"
    }
   ],
   "source": [
    "#Menghapus data duplikat pada kolom YEAR BUILT\n",
    "years = df[\"YEAR BUILT\"].drop_duplicates()\n",
    "years"
   ]
  },
  {
   "cell_type": "code",
   "execution_count": 29,
   "id": "b4b2c0b8",
   "metadata": {},
   "outputs": [
    {
     "data": {
      "text/html": [
       "<div>\n",
       "<style scoped>\n",
       "    .dataframe tbody tr th:only-of-type {\n",
       "        vertical-align: middle;\n",
       "    }\n",
       "\n",
       "    .dataframe tbody tr th {\n",
       "        vertical-align: top;\n",
       "    }\n",
       "\n",
       "    .dataframe thead th {\n",
       "        text-align: right;\n",
       "    }\n",
       "</style>\n",
       "<table border=\"1\" class=\"dataframe\">\n",
       "  <thead>\n",
       "    <tr style=\"text-align: right;\">\n",
       "      <th></th>\n",
       "      <th>BLOCK</th>\n",
       "      <th>LOT</th>\n",
       "      <th>RESIDENTIAL UNITS</th>\n",
       "      <th>COMMERCIAL UNITS</th>\n",
       "      <th>TOTAL UNITS</th>\n",
       "      <th>LAND SQUARE FEET</th>\n",
       "      <th>GROSS SQUARE FEET</th>\n",
       "      <th>SALE PRICE</th>\n",
       "    </tr>\n",
       "  </thead>\n",
       "  <tbody>\n",
       "    <tr>\n",
       "      <th>count</th>\n",
       "      <td>83783.000000</td>\n",
       "      <td>83783.000000</td>\n",
       "      <td>83783.000000</td>\n",
       "      <td>83783.000000</td>\n",
       "      <td>83783.000000</td>\n",
       "      <td>8.378300e+04</td>\n",
       "      <td>8.378300e+04</td>\n",
       "      <td>8.378300e+04</td>\n",
       "    </tr>\n",
       "    <tr>\n",
       "      <th>mean</th>\n",
       "      <td>4242.903155</td>\n",
       "      <td>376.137415</td>\n",
       "      <td>1.999976</td>\n",
       "      <td>0.183677</td>\n",
       "      <td>2.213504</td>\n",
       "      <td>3.375438e+03</td>\n",
       "      <td>3.170620e+03</td>\n",
       "      <td>1.154192e+06</td>\n",
       "    </tr>\n",
       "    <tr>\n",
       "      <th>std</th>\n",
       "      <td>3568.789482</td>\n",
       "      <td>658.021286</td>\n",
       "      <td>16.569118</td>\n",
       "      <td>8.576582</td>\n",
       "      <td>18.777727</td>\n",
       "      <td>3.449485e+04</td>\n",
       "      <td>2.860114e+04</td>\n",
       "      <td>1.042234e+07</td>\n",
       "    </tr>\n",
       "    <tr>\n",
       "      <th>min</th>\n",
       "      <td>1.000000</td>\n",
       "      <td>1.000000</td>\n",
       "      <td>0.000000</td>\n",
       "      <td>0.000000</td>\n",
       "      <td>0.000000</td>\n",
       "      <td>0.000000e+00</td>\n",
       "      <td>0.000000e+00</td>\n",
       "      <td>0.000000e+00</td>\n",
       "    </tr>\n",
       "    <tr>\n",
       "      <th>25%</th>\n",
       "      <td>1326.000000</td>\n",
       "      <td>22.000000</td>\n",
       "      <td>0.000000</td>\n",
       "      <td>0.000000</td>\n",
       "      <td>1.000000</td>\n",
       "      <td>2.000000e+03</td>\n",
       "      <td>1.344000e+03</td>\n",
       "      <td>3.000000e+05</td>\n",
       "    </tr>\n",
       "    <tr>\n",
       "      <th>50%</th>\n",
       "      <td>3319.000000</td>\n",
       "      <td>50.000000</td>\n",
       "      <td>1.000000</td>\n",
       "      <td>0.000000</td>\n",
       "      <td>1.000000</td>\n",
       "      <td>2.314000e+03</td>\n",
       "      <td>1.680000e+03</td>\n",
       "      <td>5.330000e+05</td>\n",
       "    </tr>\n",
       "    <tr>\n",
       "      <th>75%</th>\n",
       "      <td>6295.000000</td>\n",
       "      <td>1001.000000</td>\n",
       "      <td>2.000000</td>\n",
       "      <td>0.000000</td>\n",
       "      <td>2.000000</td>\n",
       "      <td>2.650000e+03</td>\n",
       "      <td>2.080000e+03</td>\n",
       "      <td>8.350000e+05</td>\n",
       "    </tr>\n",
       "    <tr>\n",
       "      <th>max</th>\n",
       "      <td>16322.000000</td>\n",
       "      <td>9106.000000</td>\n",
       "      <td>1844.000000</td>\n",
       "      <td>2261.000000</td>\n",
       "      <td>2261.000000</td>\n",
       "      <td>4.252327e+06</td>\n",
       "      <td>3.750565e+06</td>\n",
       "      <td>2.210000e+09</td>\n",
       "    </tr>\n",
       "  </tbody>\n",
       "</table>\n",
       "</div>"
      ],
      "text/plain": [
       "              BLOCK           LOT  RESIDENTIAL UNITS  COMMERCIAL UNITS  \\\n",
       "count  83783.000000  83783.000000       83783.000000      83783.000000   \n",
       "mean    4242.903155    376.137415           1.999976          0.183677   \n",
       "std     3568.789482    658.021286          16.569118          8.576582   \n",
       "min        1.000000      1.000000           0.000000          0.000000   \n",
       "25%     1326.000000     22.000000           0.000000          0.000000   \n",
       "50%     3319.000000     50.000000           1.000000          0.000000   \n",
       "75%     6295.000000   1001.000000           2.000000          0.000000   \n",
       "max    16322.000000   9106.000000        1844.000000       2261.000000   \n",
       "\n",
       "        TOTAL UNITS  LAND SQUARE FEET  GROSS SQUARE FEET    SALE PRICE  \n",
       "count  83783.000000      8.378300e+04       8.378300e+04  8.378300e+04  \n",
       "mean       2.213504      3.375438e+03       3.170620e+03  1.154192e+06  \n",
       "std       18.777727      3.449485e+04       2.860114e+04  1.042234e+07  \n",
       "min        0.000000      0.000000e+00       0.000000e+00  0.000000e+00  \n",
       "25%        1.000000      2.000000e+03       1.344000e+03  3.000000e+05  \n",
       "50%        1.000000      2.314000e+03       1.680000e+03  5.330000e+05  \n",
       "75%        2.000000      2.650000e+03       2.080000e+03  8.350000e+05  \n",
       "max     2261.000000      4.252327e+06       3.750565e+06  2.210000e+09  "
      ]
     },
     "execution_count": 29,
     "metadata": {},
     "output_type": "execute_result"
    }
   ],
   "source": [
    "#Melihat statistik data untuk data numeric \n",
    "df.describe()"
   ]
  },
  {
   "cell_type": "code",
   "execution_count": 30,
   "id": "c5e07efe",
   "metadata": {},
   "outputs": [
    {
     "name": "stdout",
     "output_type": "stream",
     "text": [
      "Nilai 0 pada YEAR BUILT:  6885\n",
      "Nilai 0 pada TOTAL UNIT:  19677\n",
      "Nilai 0 pada SALE PRICE:  10012\n"
     ]
    }
   ],
   "source": [
    "#Menghitung nilai 0 pada kolom YEAR BUILT, TOTAL UNIT, SALE PRICE\n",
    "print(\"Nilai 0 pada YEAR BUILT: \",df[df['YEAR BUILT']==0]['YEAR BUILT'].count())\n",
    "print(\"Nilai 0 pada TOTAL UNIT: \",df[df['TOTAL UNITS']==0]['TOTAL UNITS'].count())\n",
    "print(\"Nilai 0 pada SALE PRICE: \",df[df['SALE PRICE']==0]['SALE PRICE'].count())"
   ]
  },
  {
   "cell_type": "code",
   "execution_count": 31,
   "id": "4d7cb90a",
   "metadata": {},
   "outputs": [],
   "source": [
    "#Menghapus nilai 0 pada kolom YEAR BUILT, TOTAL UNIT, SALE PRICE\n",
    "df['YEAR BUILT'].replace(0, np.nan, inplace=True)\n",
    "df['TOTAL UNITS'].replace(0, np.nan, inplace=True)\n",
    "df['SALE PRICE'].replace(0, np.nan, inplace=True)"
   ]
  },
  {
   "cell_type": "code",
   "execution_count": 32,
   "id": "dbb4661c",
   "metadata": {},
   "outputs": [
    {
     "name": "stdout",
     "output_type": "stream",
     "text": [
      "Nilai 0 pada YEAR BUILT:  0\n",
      "Nilai 0 pada TOTAL UNIT:  0\n",
      "Nilai 0 pada SALE PRICE:  0\n"
     ]
    }
   ],
   "source": [
    "#Mengecek kembali nilai 0 pada kolom YEAR BUILT, TOTAL UNIT, SALE PRICE\n",
    "print(\"Nilai 0 pada YEAR BUILT: \",df[df['YEAR BUILT']==0]['YEAR BUILT'].count())\n",
    "print(\"Nilai 0 pada TOTAL UNIT: \",df[df['TOTAL UNITS']==0]['TOTAL UNITS'].count())\n",
    "print(\"Nilai 0 pada SALE PRICE: \",df[df['SALE PRICE']==0]['SALE PRICE'].count())"
   ]
  },
  {
   "cell_type": "code",
   "execution_count": 33,
   "id": "b6fca84a",
   "metadata": {},
   "outputs": [],
   "source": [
    "#Menghapus missing values\n",
    "df.dropna(inplace=True)"
   ]
  },
  {
   "cell_type": "code",
   "execution_count": 34,
   "id": "243009d3",
   "metadata": {},
   "outputs": [
    {
     "name": "stdout",
     "output_type": "stream",
     "text": [
      "<class 'pandas.core.frame.DataFrame'>\n",
      "Int64Index: 51546 entries, 0 to 84547\n",
      "Data columns (total 19 columns):\n",
      " #   Column                          Non-Null Count  Dtype         \n",
      "---  ------                          --------------  -----         \n",
      " 0   BOROUGH                         51546 non-null  category      \n",
      " 1   NEIGHBORHOOD                    51546 non-null  category      \n",
      " 2   BUILDING CLASS CATEGORY         51546 non-null  category      \n",
      " 3   TAX CLASS AT PRESENT            51546 non-null  category      \n",
      " 4   BLOCK                           51546 non-null  int64         \n",
      " 5   LOT                             51546 non-null  int64         \n",
      " 6   BUILDING CLASS AT PRESENT       51546 non-null  category      \n",
      " 7   ADDRESS                         51546 non-null  object        \n",
      " 8   ZIP CODE                        51546 non-null  category      \n",
      " 9   RESIDENTIAL UNITS               51546 non-null  int64         \n",
      " 10  COMMERCIAL UNITS                51546 non-null  int64         \n",
      " 11  TOTAL UNITS                     51546 non-null  float64       \n",
      " 12  LAND SQUARE FEET                51546 non-null  float64       \n",
      " 13  GROSS SQUARE FEET               51546 non-null  float64       \n",
      " 14  YEAR BUILT                      51546 non-null  category      \n",
      " 15  TAX CLASS AT TIME OF SALE       51546 non-null  category      \n",
      " 16  BUILDING CLASS AT TIME OF SALE  51546 non-null  category      \n",
      " 17  SALE PRICE                      51546 non-null  float64       \n",
      " 18  SALE DATE                       51546 non-null  datetime64[ns]\n",
      "dtypes: category(9), datetime64[ns](1), float64(4), int64(4), object(1)\n",
      "memory usage: 5.0+ MB\n"
     ]
    }
   ],
   "source": [
    "df.info()"
   ]
  },
  {
   "cell_type": "code",
   "execution_count": 35,
   "id": "afb7f748",
   "metadata": {},
   "outputs": [
    {
     "data": {
      "image/png": "[encoded data removed]",
      "text/plain": [
       "<Figure size 1000x500 with 1 Axes>"
      ]
     },
     "metadata": {},
     "output_type": "display_data"
    }
   ],
   "source": [
    "#Membuat boxplot untuk melihat outliers pada SALE PRICE\n",
    "plt.figure(figsize=(10,5))\n",
    "sns.boxplot(df[\"SALE PRICE\"])\n",
    "plt.show()"
   ]
  },
  {
   "cell_type": "code",
   "execution_count": 36,
   "id": "b10d6c2a",
   "metadata": {},
   "outputs": [],
   "source": [
    "df = df[(df['SALE PRICE'] > 100000) & (df['SALE PRICE'] < 800000)]"
   ]
  },
  {
   "cell_type": "code",
   "execution_count": 39,
   "id": "9c6e4b3f",
   "metadata": {},
   "outputs": [
    {
     "name": "stdout",
     "output_type": "stream",
     "text": [
      "<class 'pandas.core.frame.DataFrame'>\n",
      "Int64Index: 33240 entries, 1 to 84545\n",
      "Data columns (total 19 columns):\n",
      " #   Column                          Non-Null Count  Dtype         \n",
      "---  ------                          --------------  -----         \n",
      " 0   BOROUGH                         33240 non-null  category      \n",
      " 1   NEIGHBORHOOD                    33240 non-null  category      \n",
      " 2   BUILDING CLASS CATEGORY         33240 non-null  category      \n",
      " 3   TAX CLASS AT PRESENT            33240 non-null  category      \n",
      " 4   BLOCK                           33240 non-null  int64         \n",
      " 5   LOT                             33240 non-null  int64         \n",
      " 6   BUILDING CLASS AT PRESENT       33240 non-null  category      \n",
      " 7   ADDRESS                         33240 non-null  object        \n",
      " 8   ZIP CODE                        33240 non-null  category      \n",
      " 9   RESIDENTIAL UNITS               33240 non-null  int64         \n",
      " 10  COMMERCIAL UNITS                33240 non-null  int64         \n",
      " 11  TOTAL UNITS                     33240 non-null  float64       \n",
      " 12  LAND SQUARE FEET                33240 non-null  float64       \n",
      " 13  GROSS SQUARE FEET               33240 non-null  float64       \n",
      " 14  YEAR BUILT                      33240 non-null  category      \n",
      " 15  TAX CLASS AT TIME OF SALE       33240 non-null  category      \n",
      " 16  BUILDING CLASS AT TIME OF SALE  33240 non-null  category      \n",
      " 17  SALE PRICE                      33240 non-null  float64       \n",
      " 18  SALE DATE                       33240 non-null  datetime64[ns]\n",
      "dtypes: category(9), datetime64[ns](1), float64(4), int64(4), object(1)\n",
      "memory usage: 4.3+ MB\n"
     ]
    }
   ],
   "source": [
    "df.info()"
   ]
  },
  {
   "cell_type": "code",
   "execution_count": 40,
   "id": "3822df15",
   "metadata": {},
   "outputs": [
    {
     "data": {
      "text/html": [
       "<div>\n",
       "<style scoped>\n",
       "    .dataframe tbody tr th:only-of-type {\n",
       "        vertical-align: middle;\n",
       "    }\n",
       "\n",
       "    .dataframe tbody tr th {\n",
       "        vertical-align: top;\n",
       "    }\n",
       "\n",
       "    .dataframe thead th {\n",
       "        text-align: right;\n",
       "    }\n",
       "</style>\n",
       "<table border=\"1\" class=\"dataframe\">\n",
       "  <thead>\n",
       "    <tr style=\"text-align: right;\">\n",
       "      <th></th>\n",
       "      <th>BOROUGH</th>\n",
       "      <th>NEIGHBORHOOD</th>\n",
       "      <th>BUILDING CLASS CATEGORY</th>\n",
       "      <th>TAX CLASS AT PRESENT</th>\n",
       "      <th>BLOCK</th>\n",
       "      <th>LOT</th>\n",
       "      <th>BUILDING CLASS AT PRESENT</th>\n",
       "      <th>ADDRESS</th>\n",
       "      <th>ZIP CODE</th>\n",
       "      <th>RESIDENTIAL UNITS</th>\n",
       "      <th>COMMERCIAL UNITS</th>\n",
       "      <th>TOTAL UNITS</th>\n",
       "      <th>LAND SQUARE FEET</th>\n",
       "      <th>GROSS SQUARE FEET</th>\n",
       "      <th>YEAR BUILT</th>\n",
       "      <th>TAX CLASS AT TIME OF SALE</th>\n",
       "      <th>BUILDING CLASS AT TIME OF SALE</th>\n",
       "      <th>SALE PRICE</th>\n",
       "      <th>SALE DATE</th>\n",
       "    </tr>\n",
       "  </thead>\n",
       "  <tbody>\n",
       "    <tr>\n",
       "      <th>1</th>\n",
       "      <td>Manhattan</td>\n",
       "      <td>ALPHABET CITY</td>\n",
       "      <td>07 RENTALS - WALKUP APARTMENTS</td>\n",
       "      <td>2</td>\n",
       "      <td>399</td>\n",
       "      <td>26</td>\n",
       "      <td>C7</td>\n",
       "      <td>234 EAST 4TH   STREET</td>\n",
       "      <td>10009</td>\n",
       "      <td>28</td>\n",
       "      <td>3</td>\n",
       "      <td>31.0</td>\n",
       "      <td>4616.0</td>\n",
       "      <td>18690.0</td>\n",
       "      <td>1900</td>\n",
       "      <td>2</td>\n",
       "      <td>C7</td>\n",
       "      <td>533000.0</td>\n",
       "      <td>2016-12-14</td>\n",
       "    </tr>\n",
       "    <tr>\n",
       "      <th>2</th>\n",
       "      <td>Manhattan</td>\n",
       "      <td>ALPHABET CITY</td>\n",
       "      <td>07 RENTALS - WALKUP APARTMENTS</td>\n",
       "      <td>2</td>\n",
       "      <td>399</td>\n",
       "      <td>39</td>\n",
       "      <td>C7</td>\n",
       "      <td>197 EAST 3RD   STREET</td>\n",
       "      <td>10009</td>\n",
       "      <td>16</td>\n",
       "      <td>1</td>\n",
       "      <td>17.0</td>\n",
       "      <td>2212.0</td>\n",
       "      <td>7803.0</td>\n",
       "      <td>1900</td>\n",
       "      <td>2</td>\n",
       "      <td>C7</td>\n",
       "      <td>533000.0</td>\n",
       "      <td>2016-12-09</td>\n",
       "    </tr>\n",
       "    <tr>\n",
       "      <th>5</th>\n",
       "      <td>Manhattan</td>\n",
       "      <td>ALPHABET CITY</td>\n",
       "      <td>07 RENTALS - WALKUP APARTMENTS</td>\n",
       "      <td>2</td>\n",
       "      <td>405</td>\n",
       "      <td>16</td>\n",
       "      <td>C4</td>\n",
       "      <td>516 EAST 12TH   STREET</td>\n",
       "      <td>10009</td>\n",
       "      <td>20</td>\n",
       "      <td>0</td>\n",
       "      <td>20.0</td>\n",
       "      <td>2581.0</td>\n",
       "      <td>9730.0</td>\n",
       "      <td>1900</td>\n",
       "      <td>2</td>\n",
       "      <td>C4</td>\n",
       "      <td>533000.0</td>\n",
       "      <td>2017-07-20</td>\n",
       "    </tr>\n",
       "    <tr>\n",
       "      <th>7</th>\n",
       "      <td>Manhattan</td>\n",
       "      <td>ALPHABET CITY</td>\n",
       "      <td>07 RENTALS - WALKUP APARTMENTS</td>\n",
       "      <td>2</td>\n",
       "      <td>407</td>\n",
       "      <td>18</td>\n",
       "      <td>C7</td>\n",
       "      <td>520 EAST 14TH   STREET</td>\n",
       "      <td>10009</td>\n",
       "      <td>44</td>\n",
       "      <td>2</td>\n",
       "      <td>46.0</td>\n",
       "      <td>5163.0</td>\n",
       "      <td>21007.0</td>\n",
       "      <td>1900</td>\n",
       "      <td>2</td>\n",
       "      <td>C7</td>\n",
       "      <td>533000.0</td>\n",
       "      <td>2017-07-20</td>\n",
       "    </tr>\n",
       "    <tr>\n",
       "      <th>8</th>\n",
       "      <td>Manhattan</td>\n",
       "      <td>ALPHABET CITY</td>\n",
       "      <td>08 RENTALS - ELEVATOR APARTMENTS</td>\n",
       "      <td>2</td>\n",
       "      <td>379</td>\n",
       "      <td>34</td>\n",
       "      <td>D5</td>\n",
       "      <td>141 AVENUE D</td>\n",
       "      <td>10009</td>\n",
       "      <td>15</td>\n",
       "      <td>0</td>\n",
       "      <td>15.0</td>\n",
       "      <td>1534.0</td>\n",
       "      <td>9198.0</td>\n",
       "      <td>1920</td>\n",
       "      <td>2</td>\n",
       "      <td>D5</td>\n",
       "      <td>533000.0</td>\n",
       "      <td>2017-06-20</td>\n",
       "    </tr>\n",
       "  </tbody>\n",
       "</table>\n",
       "</div>"
      ],
      "text/plain": [
       "     BOROUGH   NEIGHBORHOOD                      BUILDING CLASS CATEGORY  \\\n",
       "1  Manhattan  ALPHABET CITY  07 RENTALS - WALKUP APARTMENTS                \n",
       "2  Manhattan  ALPHABET CITY  07 RENTALS - WALKUP APARTMENTS                \n",
       "5  Manhattan  ALPHABET CITY  07 RENTALS - WALKUP APARTMENTS                \n",
       "7  Manhattan  ALPHABET CITY  07 RENTALS - WALKUP APARTMENTS                \n",
       "8  Manhattan  ALPHABET CITY  08 RENTALS - ELEVATOR APARTMENTS              \n",
       "\n",
       "  TAX CLASS AT PRESENT  BLOCK  LOT BUILDING CLASS AT PRESENT  \\\n",
       "1                    2    399   26                        C7   \n",
       "2                    2    399   39                        C7   \n",
       "5                    2    405   16                        C4   \n",
       "7                    2    407   18                        C7   \n",
       "8                    2    379   34                        D5   \n",
       "\n",
       "                  ADDRESS ZIP CODE  RESIDENTIAL UNITS  COMMERCIAL UNITS  \\\n",
       "1   234 EAST 4TH   STREET    10009                 28                 3   \n",
       "2   197 EAST 3RD   STREET    10009                 16                 1   \n",
       "5  516 EAST 12TH   STREET    10009                 20                 0   \n",
       "7  520 EAST 14TH   STREET    10009                 44                 2   \n",
       "8            141 AVENUE D    10009                 15                 0   \n",
       "\n",
       "   TOTAL UNITS  LAND SQUARE FEET  GROSS SQUARE FEET YEAR BUILT  \\\n",
       "1         31.0            4616.0            18690.0       1900   \n",
       "2         17.0            2212.0             7803.0       1900   \n",
       "5         20.0            2581.0             9730.0       1900   \n",
       "7         46.0            5163.0            21007.0       1900   \n",
       "8         15.0            1534.0             9198.0       1920   \n",
       "\n",
       "  TAX CLASS AT TIME OF SALE BUILDING CLASS AT TIME OF SALE  SALE PRICE  \\\n",
       "1                         2                             C7    533000.0   \n",
       "2                         2                             C7    533000.0   \n",
       "5                         2                             C4    533000.0   \n",
       "7                         2                             C7    533000.0   \n",
       "8                         2                             D5    533000.0   \n",
       "\n",
       "   SALE DATE  \n",
       "1 2016-12-14  \n",
       "2 2016-12-09  \n",
       "5 2017-07-20  \n",
       "7 2017-07-20  \n",
       "8 2017-06-20  "
      ]
     },
     "execution_count": 40,
     "metadata": {},
     "output_type": "execute_result"
    }
   ],
   "source": [
    "#Melakukan encode pada kolom BOROUGH\n",
    "df['BOROUGH']= df['BOROUGH'].map({1:'Manhattan', 2:'Bronx', 3: 'Brooklyn', 4:'Queens',5:'Staten Island'})\n",
    "df.head()"
   ]
  },
  {
   "cell_type": "markdown",
   "id": "ddece758",
   "metadata": {},
   "source": [
    "## Descriptive Statistics"
   ]
  },
  {
   "cell_type": "markdown",
   "id": "3c30e699",
   "metadata": {},
   "source": [
    "### Measure of Central Tendency: Mean"
   ]
  },
  {
   "cell_type": "code",
   "execution_count": 41,
   "id": "4dbbfe50",
   "metadata": {},
   "outputs": [
    {
     "data": {
      "text/html": [
       "<div>\n",
       "<style scoped>\n",
       "    .dataframe tbody tr th:only-of-type {\n",
       "        vertical-align: middle;\n",
       "    }\n",
       "\n",
       "    .dataframe tbody tr th {\n",
       "        vertical-align: top;\n",
       "    }\n",
       "\n",
       "    .dataframe thead th {\n",
       "        text-align: right;\n",
       "    }\n",
       "</style>\n",
       "<table border=\"1\" class=\"dataframe\">\n",
       "  <thead>\n",
       "    <tr style=\"text-align: right;\">\n",
       "      <th></th>\n",
       "      <th>SALE PRICE</th>\n",
       "    </tr>\n",
       "    <tr>\n",
       "      <th>BOROUGH</th>\n",
       "      <th></th>\n",
       "    </tr>\n",
       "  </thead>\n",
       "  <tbody>\n",
       "    <tr>\n",
       "      <th>Bronx</th>\n",
       "      <td>454719.496226</td>\n",
       "    </tr>\n",
       "    <tr>\n",
       "      <th>Staten Island</th>\n",
       "      <td>479749.732431</td>\n",
       "    </tr>\n",
       "    <tr>\n",
       "      <th>Queens</th>\n",
       "      <td>518863.461569</td>\n",
       "    </tr>\n",
       "    <tr>\n",
       "      <th>Brooklyn</th>\n",
       "      <td>531021.716746</td>\n",
       "    </tr>\n",
       "    <tr>\n",
       "      <th>Manhattan</th>\n",
       "      <td>551868.071038</td>\n",
       "    </tr>\n",
       "  </tbody>\n",
       "</table>\n",
       "</div>"
      ],
      "text/plain": [
       "                  SALE PRICE\n",
       "BOROUGH                     \n",
       "Bronx          454719.496226\n",
       "Staten Island  479749.732431\n",
       "Queens         518863.461569\n",
       "Brooklyn       531021.716746\n",
       "Manhattan      551868.071038"
      ]
     },
     "execution_count": 41,
     "metadata": {},
     "output_type": "execute_result"
    }
   ],
   "source": [
    "#Menghitung nilai mean SALE PRICE pada setiap data di kolom BOROUGH\n",
    "mean_price = df[['BOROUGH','SALE PRICE']].groupby('BOROUGH').mean().sort_values(by='SALE PRICE', ascending=True)\n",
    "mean_price"
   ]
  },
  {
   "cell_type": "code",
   "execution_count": 42,
   "id": "5981231e",
   "metadata": {},
   "outputs": [
    {
     "data": {
      "text/plain": [
       "<Axes: xlabel='BOROUGH'>"
      ]
     },
     "execution_count": 42,
     "metadata": {},
     "output_type": "execute_result"
    },
    {
     "data": {
      "image/png": "[encoded data removed]",
      "text/plain": [
       "<Figure size 640x480 with 1 Axes>"
      ]
     },
     "metadata": {},
     "output_type": "display_data"
    }
   ],
   "source": [
    "mean_price.plot(kind='bar')"
   ]
  },
  {
   "cell_type": "code",
   "execution_count": 43,
   "id": "b73f8517",
   "metadata": {},
   "outputs": [
    {
     "name": "stderr",
     "output_type": "stream",
     "text": [
      "C:\\Users\\Lenovo\\AppData\\Local\\Temp\\ipykernel_6304\\3803309064.py:2: FutureWarning: The default value of numeric_only in DataFrameGroupBy.mean is deprecated. In a future version, numeric_only will default to False. Either specify numeric_only or select only columns which should be valid for the function.\n",
      "  mean_all = df.groupby('BOROUGH').mean()\n"
     ]
    },
    {
     "data": {
      "text/html": [
       "<div>\n",
       "<style scoped>\n",
       "    .dataframe tbody tr th:only-of-type {\n",
       "        vertical-align: middle;\n",
       "    }\n",
       "\n",
       "    .dataframe tbody tr th {\n",
       "        vertical-align: top;\n",
       "    }\n",
       "\n",
       "    .dataframe thead th {\n",
       "        text-align: right;\n",
       "    }\n",
       "</style>\n",
       "<table border=\"1\" class=\"dataframe\">\n",
       "  <thead>\n",
       "    <tr style=\"text-align: right;\">\n",
       "      <th></th>\n",
       "      <th>BLOCK</th>\n",
       "      <th>LOT</th>\n",
       "      <th>RESIDENTIAL UNITS</th>\n",
       "      <th>COMMERCIAL UNITS</th>\n",
       "      <th>TOTAL UNITS</th>\n",
       "      <th>LAND SQUARE FEET</th>\n",
       "      <th>GROSS SQUARE FEET</th>\n",
       "      <th>SALE PRICE</th>\n",
       "    </tr>\n",
       "    <tr>\n",
       "      <th>BOROUGH</th>\n",
       "      <th></th>\n",
       "      <th></th>\n",
       "      <th></th>\n",
       "      <th></th>\n",
       "      <th></th>\n",
       "      <th></th>\n",
       "      <th></th>\n",
       "      <th></th>\n",
       "    </tr>\n",
       "  </thead>\n",
       "  <tbody>\n",
       "    <tr>\n",
       "      <th>Manhattan</th>\n",
       "      <td>1162.025715</td>\n",
       "      <td>1046.780135</td>\n",
       "      <td>5.309225</td>\n",
       "      <td>0.945034</td>\n",
       "      <td>6.371906</td>\n",
       "      <td>2941.598843</td>\n",
       "      <td>8586.459981</td>\n",
       "      <td>551868.071038</td>\n",
       "    </tr>\n",
       "    <tr>\n",
       "      <th>Bronx</th>\n",
       "      <td>4229.494257</td>\n",
       "      <td>118.194289</td>\n",
       "      <td>2.068592</td>\n",
       "      <td>0.046275</td>\n",
       "      <td>2.114539</td>\n",
       "      <td>2620.252379</td>\n",
       "      <td>2278.153922</td>\n",
       "      <td>454719.496226</td>\n",
       "    </tr>\n",
       "    <tr>\n",
       "      <th>Brooklyn</th>\n",
       "      <td>5154.577713</td>\n",
       "      <td>371.171405</td>\n",
       "      <td>1.754513</td>\n",
       "      <td>0.058726</td>\n",
       "      <td>1.822992</td>\n",
       "      <td>1981.770284</td>\n",
       "      <td>1704.962440</td>\n",
       "      <td>531021.716746</td>\n",
       "    </tr>\n",
       "    <tr>\n",
       "      <th>Queens</th>\n",
       "      <td>7722.878476</td>\n",
       "      <td>229.919006</td>\n",
       "      <td>2.207634</td>\n",
       "      <td>0.225866</td>\n",
       "      <td>2.466881</td>\n",
       "      <td>3921.786136</td>\n",
       "      <td>2888.354014</td>\n",
       "      <td>518863.461569</td>\n",
       "    </tr>\n",
       "    <tr>\n",
       "      <th>Staten Island</th>\n",
       "      <td>3261.245902</td>\n",
       "      <td>215.497933</td>\n",
       "      <td>1.288952</td>\n",
       "      <td>0.058731</td>\n",
       "      <td>1.350677</td>\n",
       "      <td>4296.569779</td>\n",
       "      <td>1872.173913</td>\n",
       "      <td>479749.732431</td>\n",
       "    </tr>\n",
       "  </tbody>\n",
       "</table>\n",
       "</div>"
      ],
      "text/plain": [
       "                     BLOCK          LOT  RESIDENTIAL UNITS  COMMERCIAL UNITS  \\\n",
       "BOROUGH                                                                        \n",
       "Manhattan      1162.025715  1046.780135           5.309225          0.945034   \n",
       "Bronx          4229.494257   118.194289           2.068592          0.046275   \n",
       "Brooklyn       5154.577713   371.171405           1.754513          0.058726   \n",
       "Queens         7722.878476   229.919006           2.207634          0.225866   \n",
       "Staten Island  3261.245902   215.497933           1.288952          0.058731   \n",
       "\n",
       "               TOTAL UNITS  LAND SQUARE FEET  GROSS SQUARE FEET     SALE PRICE  \n",
       "BOROUGH                                                                         \n",
       "Manhattan         6.371906       2941.598843        8586.459981  551868.071038  \n",
       "Bronx             2.114539       2620.252379        2278.153922  454719.496226  \n",
       "Brooklyn          1.822992       1981.770284        1704.962440  531021.716746  \n",
       "Queens            2.466881       3921.786136        2888.354014  518863.461569  \n",
       "Staten Island     1.350677       4296.569779        1872.173913  479749.732431  "
      ]
     },
     "execution_count": 43,
     "metadata": {},
     "output_type": "execute_result"
    }
   ],
   "source": [
    "#Menghitung nilai mean pada setiap data di kolom BOROUGH\n",
    "mean_all = df.groupby('BOROUGH').mean()\n",
    "mean_all"
   ]
  },
  {
   "cell_type": "code",
   "execution_count": 44,
   "id": "525fe560",
   "metadata": {},
   "outputs": [
    {
     "data": {
      "text/plain": [
       "<Axes: xlabel='BOROUGH'>"
      ]
     },
     "execution_count": 44,
     "metadata": {},
     "output_type": "execute_result"
    },
    {
     "data": {
      "image/png": "[encoded data removed]",
      "text/plain": [
       "<Figure size 640x480 with 1 Axes>"
      ]
     },
     "metadata": {},
     "output_type": "display_data"
    }
   ],
   "source": [
    "mean_all.plot(kind='area')"
   ]
  },
  {
   "cell_type": "markdown",
   "id": "a4524be8",
   "metadata": {},
   "source": [
    "### Kesimpulan:\n",
    "Berdasarakan hasil tabel df.groupby('BOROUGH').mean().\n",
    "\n",
    "Dapat disimpulkan :\n",
    " - Manhattan memiliki nilai rata rata tertinggi pada LOT, RESIDENTIAL UNITS, COMMERCIAL UNITS, TOTAL UNITS, GROSS SQUARE FEET, dan SALE PRICE\n",
    " - Queens memiliki nilai rata rata tertingi pada BLOCK.\n",
    " - Staten Island memiliki nilai rata rata tertingi pada LAND SQUARE FEET.\n"
   ]
  },
  {
   "cell_type": "markdown",
   "id": "812c67ec",
   "metadata": {},
   "source": [
    "### Measure of Central Tendency: Median"
   ]
  },
  {
   "cell_type": "code",
   "execution_count": 45,
   "id": "ff5d2ce6",
   "metadata": {},
   "outputs": [
    {
     "data": {
      "text/html": [
       "<div>\n",
       "<style scoped>\n",
       "    .dataframe tbody tr th:only-of-type {\n",
       "        vertical-align: middle;\n",
       "    }\n",
       "\n",
       "    .dataframe tbody tr th {\n",
       "        vertical-align: top;\n",
       "    }\n",
       "\n",
       "    .dataframe thead th {\n",
       "        text-align: right;\n",
       "    }\n",
       "</style>\n",
       "<table border=\"1\" class=\"dataframe\">\n",
       "  <thead>\n",
       "    <tr style=\"text-align: right;\">\n",
       "      <th></th>\n",
       "      <th>SALE PRICE</th>\n",
       "    </tr>\n",
       "    <tr>\n",
       "      <th>BOROUGH</th>\n",
       "      <th></th>\n",
       "    </tr>\n",
       "  </thead>\n",
       "  <tbody>\n",
       "    <tr>\n",
       "      <th>Bronx</th>\n",
       "      <td>450000.0</td>\n",
       "    </tr>\n",
       "    <tr>\n",
       "      <th>Manhattan</th>\n",
       "      <td>533000.0</td>\n",
       "    </tr>\n",
       "    <tr>\n",
       "      <th>Queens</th>\n",
       "      <td>533000.0</td>\n",
       "    </tr>\n",
       "    <tr>\n",
       "      <th>Staten Island</th>\n",
       "      <td>533000.0</td>\n",
       "    </tr>\n",
       "    <tr>\n",
       "      <th>Brooklyn</th>\n",
       "      <td>550000.0</td>\n",
       "    </tr>\n",
       "  </tbody>\n",
       "</table>\n",
       "</div>"
      ],
      "text/plain": [
       "               SALE PRICE\n",
       "BOROUGH                  \n",
       "Bronx            450000.0\n",
       "Manhattan        533000.0\n",
       "Queens           533000.0\n",
       "Staten Island    533000.0\n",
       "Brooklyn         550000.0"
      ]
     },
     "execution_count": 45,
     "metadata": {},
     "output_type": "execute_result"
    }
   ],
   "source": [
    "#Menghitung nilai median SALE PRICE pada setiap data di kolom BOROUGH\n",
    "median_price = df[['BOROUGH','SALE PRICE']].groupby('BOROUGH').median().sort_values(by='SALE PRICE', ascending=True)\n",
    "median_price"
   ]
  },
  {
   "cell_type": "code",
   "execution_count": 46,
   "id": "b2ec7de8",
   "metadata": {},
   "outputs": [
    {
     "data": {
      "text/plain": [
       "<Axes: xlabel='BOROUGH'>"
      ]
     },
     "execution_count": 46,
     "metadata": {},
     "output_type": "execute_result"
    },
    {
     "data": {
      "image/png": "[encoded data removed]",
      "text/plain": [
       "<Figure size 640x480 with 1 Axes>"
      ]
     },
     "metadata": {},
     "output_type": "display_data"
    }
   ],
   "source": [
    "median_price.plot(kind=\"line\")"
   ]
  },
  {
   "cell_type": "markdown",
   "id": "69598184",
   "metadata": {},
   "source": [
    "### Kesimpulan:\n",
    "\n",
    "Berdasarakan hasil tabel dan garfik diatas\n",
    "\n",
    "Dapat disimpulkan :\n",
    " - SALE PRICE tertinggi diraih oleh BOROUGH  `Brooklyn`\n",
    " - SALE PRICE terendah diraih oleh BOROUGH `Bronx`"
   ]
  },
  {
   "cell_type": "markdown",
   "id": "b06dbe31",
   "metadata": {},
   "source": [
    "### Measure of Central Tendency: Modus"
   ]
  },
  {
   "cell_type": "code",
   "execution_count": 47,
   "id": "37a4022d",
   "metadata": {},
   "outputs": [
    {
     "name": "stdout",
     "output_type": "stream",
     "text": [
      "         BOROUGH  TOTAL UNITS\n",
      "0      Manhattan          1.0\n",
      "1          Bronx          2.0\n",
      "2       Brooklyn          1.0\n",
      "3         Queens          1.0\n",
      "4  Staten Island          1.0\n"
     ]
    },
    {
     "data": {
      "text/plain": [
       "<Axes: >"
      ]
     },
     "execution_count": 47,
     "metadata": {},
     "output_type": "execute_result"
    },
    {
     "data": {
      "image/png": "[encoded data removed]",
      "text/plain": [
       "<Figure size 640x480 with 1 Axes>"
      ]
     },
     "metadata": {},
     "output_type": "display_data"
    }
   ],
   "source": [
    "#Menghitung nilai modus TOTAL UNIT pada setiap data di kolom BOROUGH\n",
    "modus_price = df[['BOROUGH','TOTAL UNITS']].groupby(['BOROUGH']).apply(pd.DataFrame.mode).reset_index(drop=True)\n",
    "print(modus_price)\n",
    "modus_price.plot(kind='bar')"
   ]
  },
  {
   "cell_type": "markdown",
   "id": "e96a6c8d",
   "metadata": {},
   "source": [
    "### Kesimpulan:\n",
    "\n",
    "Dari tabel dan grafik di atas dapat disimpulkan bahwa :\n",
    "BOROUGH`Bronx` memiliki sebagian besar 2 total unit, sedangkan BOROUGH `Manhattan`, BOROUGH `Staten Island`, BOROUGH `Brooklyn`, dan BOROUGH `Queens`sebagian besar memiliki 1 total unit."
   ]
  },
  {
   "cell_type": "markdown",
   "id": "d7357d1d",
   "metadata": {},
   "source": [
    "### Measure of Spread : Range"
   ]
  },
  {
   "cell_type": "code",
   "execution_count": 48,
   "id": "e98c3ef5",
   "metadata": {},
   "outputs": [
    {
     "name": "stdout",
     "output_type": "stream",
     "text": [
      "BOROUGH\n",
      "Manhattan        691680.0\n",
      "Bronx            697500.0\n",
      "Brooklyn         698326.0\n",
      "Queens           698634.0\n",
      "Staten Island    698300.0\n",
      "dtype: float64\n"
     ]
    },
    {
     "data": {
      "text/plain": [
       "<Axes: xlabel='BOROUGH'>"
      ]
     },
     "execution_count": 48,
     "metadata": {},
     "output_type": "execute_result"
    },
    {
     "data": {
      "image/png": "[encoded data removed]",
      "text/plain": [
       "<Figure size 640x480 with 1 Axes>"
      ]
     },
     "metadata": {},
     "output_type": "display_data"
    }
   ],
   "source": [
    "#Menghitung nilai range SALE PRICE pada setiap data di kolom BOROUGH\n",
    "range_price = df.groupby('BOROUGH').apply(lambda x: x['SALE PRICE'].max() - x['SALE PRICE'].min())\n",
    "print(range_price)\n",
    "range_price.plot(kind='line')"
   ]
  },
  {
   "cell_type": "markdown",
   "id": "92151668",
   "metadata": {},
   "source": [
    "### Kesimpulan:\n",
    "\n",
    "Berdasarkan tabel dan plot di atas, dapat disimpulkan bahwa :\n",
    "- nilai range pada semua kota tidak jauh berbeda, yaitu berada pada kisaran 690000\n",
    "- range tertinggi ada pada BOROUGH `Queens`\n",
    "- range terendah ada pada BOROUGH `Manhattan`"
   ]
  },
  {
   "cell_type": "markdown",
   "id": "8f94c69f",
   "metadata": {},
   "source": [
    "### Measure of Spread : Variance"
   ]
  },
  {
   "cell_type": "code",
   "execution_count": 49,
   "id": "ffd1c412",
   "metadata": {},
   "outputs": [
    {
     "name": "stderr",
     "output_type": "stream",
     "text": [
      "C:\\Users\\Lenovo\\AppData\\Local\\Temp\\ipykernel_6304\\2747115265.py:2: FutureWarning: The default value of numeric_only in DataFrameGroupBy.var is deprecated. In a future version, numeric_only will default to False. Either specify numeric_only or select only columns which should be valid for the function.\n",
      "  var_all = df.groupby('BOROUGH').var()\n"
     ]
    },
    {
     "data": {
      "text/html": [
       "<div>\n",
       "<style scoped>\n",
       "    .dataframe tbody tr th:only-of-type {\n",
       "        vertical-align: middle;\n",
       "    }\n",
       "\n",
       "    .dataframe tbody tr th {\n",
       "        vertical-align: top;\n",
       "    }\n",
       "\n",
       "    .dataframe thead th {\n",
       "        text-align: right;\n",
       "    }\n",
       "</style>\n",
       "<table border=\"1\" class=\"dataframe\">\n",
       "  <thead>\n",
       "    <tr style=\"text-align: right;\">\n",
       "      <th></th>\n",
       "      <th>BLOCK</th>\n",
       "      <th>LOT</th>\n",
       "      <th>RESIDENTIAL UNITS</th>\n",
       "      <th>COMMERCIAL UNITS</th>\n",
       "      <th>TOTAL UNITS</th>\n",
       "      <th>LAND SQUARE FEET</th>\n",
       "      <th>GROSS SQUARE FEET</th>\n",
       "      <th>SALE PRICE</th>\n",
       "    </tr>\n",
       "    <tr>\n",
       "      <th>BOROUGH</th>\n",
       "      <th></th>\n",
       "      <th></th>\n",
       "      <th></th>\n",
       "      <th></th>\n",
       "      <th></th>\n",
       "      <th></th>\n",
       "      <th></th>\n",
       "      <th></th>\n",
       "    </tr>\n",
       "  </thead>\n",
       "  <tbody>\n",
       "    <tr>\n",
       "      <th>Manhattan</th>\n",
       "      <td>3.142175e+05</td>\n",
       "      <td>717910.228171</td>\n",
       "      <td>1350.462548</td>\n",
       "      <td>168.305338</td>\n",
       "      <td>1529.207301</td>\n",
       "      <td>5.069350e+07</td>\n",
       "      <td>3.318655e+09</td>\n",
       "      <td>6.686725e+09</td>\n",
       "    </tr>\n",
       "    <tr>\n",
       "      <th>Bronx</th>\n",
       "      <td>8.998643e+05</td>\n",
       "      <td>70474.574189</td>\n",
       "      <td>73.524841</td>\n",
       "      <td>0.072382</td>\n",
       "      <td>73.509857</td>\n",
       "      <td>8.828127e+06</td>\n",
       "      <td>5.613665e+07</td>\n",
       "      <td>2.292858e+10</td>\n",
       "    </tr>\n",
       "    <tr>\n",
       "      <th>Brooklyn</th>\n",
       "      <td>6.275066e+06</td>\n",
       "      <td>291303.238775</td>\n",
       "      <td>42.074012</td>\n",
       "      <td>0.124197</td>\n",
       "      <td>42.154008</td>\n",
       "      <td>2.533582e+08</td>\n",
       "      <td>7.328386e+07</td>\n",
       "      <td>2.853781e+10</td>\n",
       "    </tr>\n",
       "    <tr>\n",
       "      <th>Queens</th>\n",
       "      <td>1.970488e+07</td>\n",
       "      <td>227306.659603</td>\n",
       "      <td>550.275505</td>\n",
       "      <td>335.528177</td>\n",
       "      <td>895.808833</td>\n",
       "      <td>2.417852e+09</td>\n",
       "      <td>1.953598e+09</td>\n",
       "      <td>1.558957e+10</td>\n",
       "    </tr>\n",
       "    <tr>\n",
       "      <th>Staten Island</th>\n",
       "      <td>5.119743e+06</td>\n",
       "      <td>204110.845412</td>\n",
       "      <td>3.765226</td>\n",
       "      <td>2.375221</td>\n",
       "      <td>6.028134</td>\n",
       "      <td>7.767154e+08</td>\n",
       "      <td>7.213998e+07</td>\n",
       "      <td>1.781652e+10</td>\n",
       "    </tr>\n",
       "  </tbody>\n",
       "</table>\n",
       "</div>"
      ],
      "text/plain": [
       "                      BLOCK            LOT  RESIDENTIAL UNITS  \\\n",
       "BOROUGH                                                         \n",
       "Manhattan      3.142175e+05  717910.228171        1350.462548   \n",
       "Bronx          8.998643e+05   70474.574189          73.524841   \n",
       "Brooklyn       6.275066e+06  291303.238775          42.074012   \n",
       "Queens         1.970488e+07  227306.659603         550.275505   \n",
       "Staten Island  5.119743e+06  204110.845412           3.765226   \n",
       "\n",
       "               COMMERCIAL UNITS  TOTAL UNITS  LAND SQUARE FEET  \\\n",
       "BOROUGH                                                          \n",
       "Manhattan            168.305338  1529.207301      5.069350e+07   \n",
       "Bronx                  0.072382    73.509857      8.828127e+06   \n",
       "Brooklyn               0.124197    42.154008      2.533582e+08   \n",
       "Queens               335.528177   895.808833      2.417852e+09   \n",
       "Staten Island          2.375221     6.028134      7.767154e+08   \n",
       "\n",
       "               GROSS SQUARE FEET    SALE PRICE  \n",
       "BOROUGH                                         \n",
       "Manhattan           3.318655e+09  6.686725e+09  \n",
       "Bronx               5.613665e+07  2.292858e+10  \n",
       "Brooklyn            7.328386e+07  2.853781e+10  \n",
       "Queens              1.953598e+09  1.558957e+10  \n",
       "Staten Island       7.213998e+07  1.781652e+10  "
      ]
     },
     "execution_count": 49,
     "metadata": {},
     "output_type": "execute_result"
    }
   ],
   "source": [
    "#Menghitung nilai variance pada setiap data di kolom BOROUGH\n",
    "var_all = df.groupby('BOROUGH').var()\n",
    "var_all"
   ]
  },
  {
   "cell_type": "markdown",
   "id": "26373adb",
   "metadata": {},
   "source": [
    "### Kesimpulan:\n",
    "Dari tabel di atas,  diketahui bahwa sebagian besar kota memiliki nilai varians yang tinggi, artinya data memiliki distribusi yang besar."
   ]
  },
  {
   "cell_type": "markdown",
   "id": "878517fd",
   "metadata": {},
   "source": [
    "### Measure of Spread : Standard Deviation"
   ]
  },
  {
   "cell_type": "code",
   "execution_count": 51,
   "id": "90b0d2d9",
   "metadata": {},
   "outputs": [
    {
     "name": "stderr",
     "output_type": "stream",
     "text": [
      "C:\\Users\\Lenovo\\AppData\\Local\\Temp\\ipykernel_6304\\3684064534.py:2: FutureWarning: The default value of numeric_only in DataFrameGroupBy.std is deprecated. In a future version, numeric_only will default to False. Either specify numeric_only or select only columns which should be valid for the function.\n",
      "  std_all = df.groupby('BOROUGH').std()\n"
     ]
    },
    {
     "data": {
      "text/html": [
       "<div>\n",
       "<style scoped>\n",
       "    .dataframe tbody tr th:only-of-type {\n",
       "        vertical-align: middle;\n",
       "    }\n",
       "\n",
       "    .dataframe tbody tr th {\n",
       "        vertical-align: top;\n",
       "    }\n",
       "\n",
       "    .dataframe thead th {\n",
       "        text-align: right;\n",
       "    }\n",
       "</style>\n",
       "<table border=\"1\" class=\"dataframe\">\n",
       "  <thead>\n",
       "    <tr style=\"text-align: right;\">\n",
       "      <th></th>\n",
       "      <th>BLOCK</th>\n",
       "      <th>LOT</th>\n",
       "      <th>RESIDENTIAL UNITS</th>\n",
       "      <th>COMMERCIAL UNITS</th>\n",
       "      <th>TOTAL UNITS</th>\n",
       "      <th>LAND SQUARE FEET</th>\n",
       "      <th>GROSS SQUARE FEET</th>\n",
       "      <th>SALE PRICE</th>\n",
       "    </tr>\n",
       "    <tr>\n",
       "      <th>BOROUGH</th>\n",
       "      <th></th>\n",
       "      <th></th>\n",
       "      <th></th>\n",
       "      <th></th>\n",
       "      <th></th>\n",
       "      <th></th>\n",
       "      <th></th>\n",
       "      <th></th>\n",
       "    </tr>\n",
       "  </thead>\n",
       "  <tbody>\n",
       "    <tr>\n",
       "      <th>Manhattan</th>\n",
       "      <td>560.551027</td>\n",
       "      <td>847.295833</td>\n",
       "      <td>36.748640</td>\n",
       "      <td>12.973255</td>\n",
       "      <td>39.105080</td>\n",
       "      <td>7119.937134</td>\n",
       "      <td>57607.771999</td>\n",
       "      <td>81772.396199</td>\n",
       "    </tr>\n",
       "    <tr>\n",
       "      <th>Bronx</th>\n",
       "      <td>948.611759</td>\n",
       "      <td>265.470477</td>\n",
       "      <td>8.574663</td>\n",
       "      <td>0.269039</td>\n",
       "      <td>8.573789</td>\n",
       "      <td>2971.216482</td>\n",
       "      <td>7492.439587</td>\n",
       "      <td>151421.869236</td>\n",
       "    </tr>\n",
       "    <tr>\n",
       "      <th>Brooklyn</th>\n",
       "      <td>2505.008121</td>\n",
       "      <td>539.725151</td>\n",
       "      <td>6.486448</td>\n",
       "      <td>0.352416</td>\n",
       "      <td>6.492612</td>\n",
       "      <td>15917.228446</td>\n",
       "      <td>8560.599356</td>\n",
       "      <td>168931.371636</td>\n",
       "    </tr>\n",
       "    <tr>\n",
       "      <th>Queens</th>\n",
       "      <td>4439.017348</td>\n",
       "      <td>476.766882</td>\n",
       "      <td>23.457952</td>\n",
       "      <td>18.317428</td>\n",
       "      <td>29.930066</td>\n",
       "      <td>49171.654954</td>\n",
       "      <td>44199.529479</td>\n",
       "      <td>124858.189065</td>\n",
       "    </tr>\n",
       "    <tr>\n",
       "      <th>Staten Island</th>\n",
       "      <td>2262.684895</td>\n",
       "      <td>451.786283</td>\n",
       "      <td>1.940419</td>\n",
       "      <td>1.541175</td>\n",
       "      <td>2.455226</td>\n",
       "      <td>27869.614505</td>\n",
       "      <td>8493.525502</td>\n",
       "      <td>133478.522279</td>\n",
       "    </tr>\n",
       "  </tbody>\n",
       "</table>\n",
       "</div>"
      ],
      "text/plain": [
       "                     BLOCK         LOT  RESIDENTIAL UNITS  COMMERCIAL UNITS  \\\n",
       "BOROUGH                                                                       \n",
       "Manhattan       560.551027  847.295833          36.748640         12.973255   \n",
       "Bronx           948.611759  265.470477           8.574663          0.269039   \n",
       "Brooklyn       2505.008121  539.725151           6.486448          0.352416   \n",
       "Queens         4439.017348  476.766882          23.457952         18.317428   \n",
       "Staten Island  2262.684895  451.786283           1.940419          1.541175   \n",
       "\n",
       "               TOTAL UNITS  LAND SQUARE FEET  GROSS SQUARE FEET     SALE PRICE  \n",
       "BOROUGH                                                                         \n",
       "Manhattan        39.105080       7119.937134       57607.771999   81772.396199  \n",
       "Bronx             8.573789       2971.216482        7492.439587  151421.869236  \n",
       "Brooklyn          6.492612      15917.228446        8560.599356  168931.371636  \n",
       "Queens           29.930066      49171.654954       44199.529479  124858.189065  \n",
       "Staten Island     2.455226      27869.614505        8493.525502  133478.522279  "
      ]
     },
     "execution_count": 51,
     "metadata": {},
     "output_type": "execute_result"
    }
   ],
   "source": [
    "#Menghitung nilai standar deviasi pada setiap data di kolom BOROUGH\n",
    "std_all = df.groupby('BOROUGH').std()\n",
    "std_all"
   ]
  },
  {
   "cell_type": "code",
   "execution_count": 52,
   "id": "98aa9eca",
   "metadata": {},
   "outputs": [
    {
     "data": {
      "image/png": "[encoded data removed]",
      "text/plain": [
       "<Figure size 2000x1000 with 1 Axes>"
      ]
     },
     "metadata": {},
     "output_type": "display_data"
    }
   ],
   "source": [
    "std_all.plot(kind ='area',\n",
    "             stacked = False,\n",
    "             figsize = (20, 10))\n",
    "\n",
    "plt.title('Standard Deviation')\n",
    "plt.ylabel('')\n",
    "plt.xlabel('BOROUGH')\n",
    "\n",
    "plt.show()"
   ]
  },
  {
   "cell_type": "markdown",
   "id": "f81f11c5",
   "metadata": {},
   "source": [
    "### Kesimpulan:\n",
    "\n",
    "Dari tabel di atas, dapat disimpulkan bahwa \n",
    "- sebagian besar kota memiliki nilai standar deviasi yang tinggi, artinya data memiliki distribusi yang besar\n",
    "- BOROUGH `Brooklyn` memiliki nilai SALE PRICE yang tinggi yaitu 168931.371636\n",
    "- BOROUGH `Queens`  memiliki nilai BLOCK, COMMERCIAL UNITS, dan LAND SQUARE FEET yang paling tinggi"
   ]
  },
  {
   "cell_type": "markdown",
   "id": "43d9fa11",
   "metadata": {},
   "source": [
    "## Probability Distribution"
   ]
  },
  {
   "cell_type": "code",
   "execution_count": 53,
   "id": "141cd82e",
   "metadata": {},
   "outputs": [
    {
     "name": "stderr",
     "output_type": "stream",
     "text": [
      "C:\\Users\\Lenovo\\AppData\\Local\\Temp\\ipykernel_6304\\2772544709.py:5: UserWarning: \n",
      "\n",
      "`distplot` is a deprecated function and will be removed in seaborn v0.14.0.\n",
      "\n",
      "Please adapt your code to use either `displot` (a figure-level function with\n",
      "similar flexibility) or `histplot` (an axes-level function for histograms).\n",
      "\n",
      "For a guide to updating your code to use the new functions, please see\n",
      "https://gist.github.com/mwaskom/de44147ed2974457ad6372750bbe5751\n",
      "\n",
      "  ax = sns.distplot(br['SALE PRICE'],\n"
     ]
    },
    {
     "data": {
      "text/plain": [
       "[Text(0.5, 0, 'Price'),\n",
       " Text(0, 0.5, 'Probability of Occurence'),\n",
       " Text(0.5, 1.0, 'Distribution of Sale Price in Brooklyn')]"
      ]
     },
     "execution_count": 53,
     "metadata": {},
     "output_type": "execute_result"
    },
    {
     "data": {
      "image/png": "[encoded data removed]",
      "text/plain": [
       "<Figure size 640x480 with 1 Axes>"
      ]
     },
     "metadata": {},
     "output_type": "display_data"
    }
   ],
   "source": [
    "#Membuat probability distribution Bronx di kolom SALE PRICE \n",
    "df1 = df.groupby(\"BOROUGH\")\n",
    "br = df1.get_group('Brooklyn')\n",
    "\n",
    "ax = sns.distplot(br['SALE PRICE'],\n",
    "                  kde=True,\n",
    "                  bins=20,\n",
    "                  color='lightcoral',\n",
    "                  hist_kws={\"linewidth\": 15,'alpha':0.45})\n",
    "\n",
    "ax.set(xlabel='Price', \n",
    "       ylabel='Probability of Occurence', \n",
    "       title='Distribution of Sale Price in Brooklyn')"
   ]
  },
  {
   "cell_type": "markdown",
   "id": "fc2c93f5",
   "metadata": {},
   "source": [
    "### Kesimpulan:\n",
    "\n",
    "Dari plot distribusi di atas, dapat diketahui bahwa SALE PRICE Brooklyn mengikuti distribusi binomial. Plot distribusi miring ke kanan yang artinya, nilai - nilai observasi berfrekuensi rendah lebih banyak berada di sebelah kanan dari rata - rata. Jadi probabilitasnya untuk sukses."
   ]
  },
  {
   "cell_type": "code",
   "execution_count": 54,
   "id": "51adb8d0",
   "metadata": {},
   "outputs": [
    {
     "name": "stderr",
     "output_type": "stream",
     "text": [
      "C:\\Users\\Lenovo\\AppData\\Local\\Temp\\ipykernel_6304\\3247667482.py:5: UserWarning: \n",
      "\n",
      "`distplot` is a deprecated function and will be removed in seaborn v0.14.0.\n",
      "\n",
      "Please adapt your code to use either `displot` (a figure-level function with\n",
      "similar flexibility) or `histplot` (an axes-level function for histograms).\n",
      "\n",
      "For a guide to updating your code to use the new functions, please see\n",
      "https://gist.github.com/mwaskom/de44147ed2974457ad6372750bbe5751\n",
      "\n",
      "  ax = sns.distplot(br['SALE PRICE'],\n"
     ]
    },
    {
     "data": {
      "text/plain": [
       "[Text(0.5, 0, 'Price'),\n",
       " Text(0, 0.5, 'Probability of Occurence'),\n",
       " Text(0.5, 1.0, 'Distribution of Sale Price in Bronx')]"
      ]
     },
     "execution_count": 54,
     "metadata": {},
     "output_type": "execute_result"
    },
    {
     "data": {
      "image/png": "[encoded data removed]",
      "text/plain": [
       "<Figure size 640x480 with 1 Axes>"
      ]
     },
     "metadata": {},
     "output_type": "display_data"
    }
   ],
   "source": [
    "#Membuat probability distribution Bronx di kolom SALE PRICE \n",
    "df1 = df.groupby(\"BOROUGH\")\n",
    "br = df1.get_group('Bronx')\n",
    "\n",
    "ax = sns.distplot(br['SALE PRICE'],\n",
    "                  kde=True,\n",
    "                  bins=20,\n",
    "                  color='purple',\n",
    "                  hist_kws={\"linewidth\": 15,'alpha':0.45})\n",
    "\n",
    "ax.set(xlabel='Price', \n",
    "       ylabel='Probability of Occurence', \n",
    "       title='Distribution of Sale Price in Bronx')"
   ]
  },
  {
   "cell_type": "markdown",
   "id": "7b741b95",
   "metadata": {},
   "source": [
    "### Kesimpulan:\n",
    "\n",
    "Dari plot distribusi di atas, dapat diketahui bahwa SALE PRICE Bronx mengikuti distribusi normal. Secara umum plot distribusi normal berbentuk mirip dengan lonceng."
   ]
  },
  {
   "cell_type": "markdown",
   "id": "cc5e7037",
   "metadata": {},
   "source": [
    "## Confidence Interval"
   ]
  },
  {
   "cell_type": "code",
   "execution_count": 55,
   "id": "b9edd5ca",
   "metadata": {},
   "outputs": [
    {
     "data": {
      "text/html": [
       "<div>\n",
       "<style scoped>\n",
       "    .dataframe tbody tr th:only-of-type {\n",
       "        vertical-align: middle;\n",
       "    }\n",
       "\n",
       "    .dataframe tbody tr th {\n",
       "        vertical-align: top;\n",
       "    }\n",
       "\n",
       "    .dataframe thead tr th {\n",
       "        text-align: left;\n",
       "    }\n",
       "\n",
       "    .dataframe thead tr:last-of-type th {\n",
       "        text-align: right;\n",
       "    }\n",
       "</style>\n",
       "<table border=\"1\" class=\"dataframe\">\n",
       "  <thead>\n",
       "    <tr>\n",
       "      <th></th>\n",
       "      <th colspan=\"3\" halign=\"left\">SALE PRICE</th>\n",
       "    </tr>\n",
       "    <tr>\n",
       "      <th></th>\n",
       "      <th>mean</th>\n",
       "      <th>std</th>\n",
       "      <th>size</th>\n",
       "    </tr>\n",
       "    <tr>\n",
       "      <th>BOROUGH</th>\n",
       "      <th></th>\n",
       "      <th></th>\n",
       "      <th></th>\n",
       "    </tr>\n",
       "  </thead>\n",
       "  <tbody>\n",
       "    <tr>\n",
       "      <th>Manhattan</th>\n",
       "      <td>551868.071038</td>\n",
       "      <td>81772.396199</td>\n",
       "      <td>3111</td>\n",
       "    </tr>\n",
       "    <tr>\n",
       "      <th>Bronx</th>\n",
       "      <td>454719.496226</td>\n",
       "      <td>151421.869236</td>\n",
       "      <td>3047</td>\n",
       "    </tr>\n",
       "    <tr>\n",
       "      <th>Brooklyn</th>\n",
       "      <td>531021.716746</td>\n",
       "      <td>168931.371636</td>\n",
       "      <td>4819</td>\n",
       "    </tr>\n",
       "    <tr>\n",
       "      <th>Queens</th>\n",
       "      <td>518863.461569</td>\n",
       "      <td>124858.189065</td>\n",
       "      <td>15248</td>\n",
       "    </tr>\n",
       "    <tr>\n",
       "      <th>Staten Island</th>\n",
       "      <td>479749.732431</td>\n",
       "      <td>133478.522279</td>\n",
       "      <td>7015</td>\n",
       "    </tr>\n",
       "  </tbody>\n",
       "</table>\n",
       "</div>"
      ],
      "text/plain": [
       "                  SALE PRICE                      \n",
       "                        mean            std   size\n",
       "BOROUGH                                           \n",
       "Manhattan      551868.071038   81772.396199   3111\n",
       "Bronx          454719.496226  151421.869236   3047\n",
       "Brooklyn       531021.716746  168931.371636   4819\n",
       "Queens         518863.461569  124858.189065  15248\n",
       "Staten Island  479749.732431  133478.522279   7015"
      ]
     },
     "execution_count": 55,
     "metadata": {},
     "output_type": "execute_result"
    }
   ],
   "source": [
    "#Menampilkan mean, standard deviation, dan population size dari SALE PRICE\n",
    "ci=df.groupby(\"BOROUGH\").agg({\"SALE PRICE\": [np.mean, np.std, np.size]})\n",
    "ci"
   ]
  },
  {
   "cell_type": "code",
   "execution_count": 56,
   "id": "13a44ee5",
   "metadata": {},
   "outputs": [],
   "source": [
    "#Mengekstrak parameter yang diperlukan\n",
    "mean_sp = ci.iloc[0,0]\n",
    "sd = ci.iloc [0,1]\n",
    "n = ci.iloc [0,2]         \n",
    "z = 1.96   "
   ]
  },
  {
   "cell_type": "code",
   "execution_count": 57,
   "id": "6c5dbe06",
   "metadata": {},
   "outputs": [],
   "source": [
    "#Menghitung standard error \n",
    "se = sd / np.sqrt(n)"
   ]
  },
  {
   "cell_type": "code",
   "execution_count": 58,
   "id": "529a7bd7",
   "metadata": {},
   "outputs": [
    {
     "data": {
      "text/plain": [
       "(548994.5605278267, 554741.5815486761)"
      ]
     },
     "execution_count": 58,
     "metadata": {},
     "output_type": "execute_result"
    }
   ],
   "source": [
    "#Membangun CI\n",
    "lcb = mean_sp - z * se\n",
    "ucb = mean_sp + z * se\n",
    "lcb, ucb"
   ]
  },
  {
   "cell_type": "markdown",
   "id": "362a5552",
   "metadata": {},
   "source": [
    "Artinya rata-rata sebenarnya dari SALE PRICE di Manhattan akan jatuh antara 548994.5605278267 dan 554741.5815486761"
   ]
  },
  {
   "cell_type": "markdown",
   "id": "6c305423",
   "metadata": {},
   "source": [
    "## Hypothesis Testing\n",
    "\n",
    "Menguji apakah sampel data memiliki distribusi Gaussian.\n",
    "\n",
    "Asumsi:\n",
    "- Pengamatan di setiap sampel independen dan terdistribusi secara identik.\n",
    "\n",
    "Interpretasi\n",
    "- H0: Sampel memiliki distribusi Gaussian\n",
    "- H1: Sampel tidak memiliki distribusi Gaussian"
   ]
  },
  {
   "cell_type": "code",
   "execution_count": 59,
   "id": "fcc9b201",
   "metadata": {},
   "outputs": [],
   "source": [
    "import statsmodels.api as sm"
   ]
  },
  {
   "cell_type": "markdown",
   "id": "62788ab1",
   "metadata": {},
   "source": [
    "### Shapiro-Wilk Test"
   ]
  },
  {
   "cell_type": "code",
   "execution_count": 60,
   "id": "bf9a444e",
   "metadata": {},
   "outputs": [
    {
     "name": "stdout",
     "output_type": "stream",
     "text": [
      "stat=0.629, p=0.000\n",
      "Probably not Gaussian\n"
     ]
    }
   ],
   "source": [
    "from scipy.stats import pearsonr\n",
    "df1 = df.groupby(\"BOROUGH\")\n",
    "mh = df1.get_group('Manhattan')\n",
    "sp = mh['SALE PRICE']\n",
    "\n",
    "from scipy.stats import shapiro\n",
    "stat, p = shapiro(sp)\n",
    "print('stat=%.3f, p=%.3f' % (stat, p))\n",
    "if p > 0.05:\n",
    "    print('Probably Gaussian')\n",
    "else:\n",
    "    print('Probably not Gaussian')"
   ]
  },
  {
   "cell_type": "markdown",
   "id": "f9735dba",
   "metadata": {},
   "source": [
    "### D'Agostino's K^2 Test"
   ]
  },
  {
   "cell_type": "code",
   "execution_count": 61,
   "id": "316a10fa",
   "metadata": {},
   "outputs": [
    {
     "name": "stdout",
     "output_type": "stream",
     "text": [
      "stat=124.810, p=0.000\n",
      "Probably not Gaussian\n"
     ]
    }
   ],
   "source": [
    "from scipy.stats import pearsonr\n",
    "df1 = df.groupby(\"BOROUGH\")\n",
    "br = df1.get_group('Bronx')\n",
    "sp1 = br['SALE PRICE']\n",
    "\n",
    "from scipy.stats import normaltest\n",
    "stat, p = normaltest(sp1)\n",
    "print('stat=%.3f, p=%.3f' % (stat, p))\n",
    "if p > 0.05:\n",
    "    print('Probably Gaussian')\n",
    "else:\n",
    "    print('Probably not Gaussian')"
   ]
  },
  {
   "cell_type": "markdown",
   "id": "6f7ec041",
   "metadata": {},
   "source": [
    "### Anderson-Darling Test"
   ]
  },
  {
   "cell_type": "code",
   "execution_count": 62,
   "id": "8db17ccd",
   "metadata": {},
   "outputs": [
    {
     "name": "stdout",
     "output_type": "stream",
     "text": [
      "stat=39.849\n",
      "Probably not Gaussian at the 15.0% level\n",
      "Probably not Gaussian at the 10.0% level\n",
      "Probably not Gaussian at the 5.0% level\n",
      "Probably not Gaussian at the 2.5% level\n",
      "Probably not Gaussian at the 1.0% level\n"
     ]
    }
   ],
   "source": [
    "from scipy.stats import pearsonr\n",
    "df1 = df.groupby(\"BOROUGH\")\n",
    "brok = df1.get_group('Brooklyn')\n",
    "sp2 = brok['SALE PRICE']\n",
    "\n",
    "from scipy.stats import anderson\n",
    "results = anderson(sp2)\n",
    "print('stat=%.3f' % (results.statistic))\n",
    "for i in range(len(results.critical_values)):\n",
    "      sl, cv = results.significance_level[i], results.critical_values[i]\n",
    "      if results.statistic < cv:\n",
    "          print('Probably Gaussian at the %.1f%% level' % (sl))\n",
    "      else:\n",
    "          print('Probably not Gaussian at the %.1f%% level' % (sl))"
   ]
  },
  {
   "cell_type": "markdown",
   "id": "f21b5411",
   "metadata": {},
   "source": [
    "### Kesimpulan : \n",
    "Berdasarkan pengujian didapatkan p-value < 0,05 sehingga H0 ditolak yang berarti sampel data tidak berdistribusi Gaussian."
   ]
  },
  {
   "cell_type": "markdown",
   "id": "6fc29ea9",
   "metadata": {},
   "source": [
    "## Kesimpulan\n",
    "\n",
    "Berdasarkan hasil pengerjaan diatas dapat disimpulkan bahwa :\n",
    "\n",
    "1. Berdasarkan data, mean (Rata - rata), Rata rata  tertinggi terdapat pada Manhattan, yaitu 551868.\n",
    "2. Berdasarkan data Median ( nilai tengah ), median tertinggi terdapat pada kota Brooklyn, yaitu 550000 dan median terendah terdapat pada kota Bronx.\n",
    "3. Berdasarkan data, Bronx memiliki sebagian besar 2 total unit, sedangkan borough lainnya sebagian besar memiliki 1 total unit.\n",
    "4. Berdasarkan data, Range pada semua kota tidak jauh berbeda, yaitu berkisar di angka 690000.\n",
    "5. Berdasarkan data,Sebagian besar kota memiliki nilai varians yang tinggi, artinya data memiliki distribusi yang besar.\n",
    "6. Berdasarkan pengujian hipotesis, didapatkan p-value < 0.05 sehingga sampel tidak berdistribusi Gaussian."
   ]
  },
  {
   "cell_type": "code",
   "execution_count": null,
   "id": "98524aee",
   "metadata": {},
   "outputs": [],
   "source": []
  }
 ],
 "metadata": {
  "kernelspec": {
   "display_name": "Python 3 (ipykernel)",
   "language": "python",
   "name": "python3"
  },
  "language_info": {
   "codemirror_mode": {
    "name": "ipython",
    "version": 3
   },
   "file_extension": ".py",
   "mimetype": "text/x-python",
   "name": "python",
   "nbconvert_exporter": "python",
   "pygments_lexer": "ipython3",
   "version": "3.10.9"
  }
 },
 "nbformat": 4,
 "nbformat_minor": 5
}
